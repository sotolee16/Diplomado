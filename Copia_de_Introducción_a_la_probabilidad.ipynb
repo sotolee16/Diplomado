{
  "nbformat": 4,
  "nbformat_minor": 0,
  "metadata": {
    "colab": {
      "provenance": [],
      "include_colab_link": true
    },
    "kernelspec": {
      "name": "python3",
      "display_name": "Python 3"
    },
    "language_info": {
      "name": "python"
    }
  },
  "cells": [
    {
      "cell_type": "markdown",
      "metadata": {
        "id": "view-in-github",
        "colab_type": "text"
      },
      "source": [
        "<a href=\"https://colab.research.google.com/github/sotolee16/Experimento-de-dos-dados/blob/main/Copia_de_Introducci%C3%B3n_a_la_probabilidad.ipynb\" target=\"_parent\"><img src=\"https://colab.research.google.com/assets/colab-badge.svg\" alt=\"Open In Colab\"/></a>"
      ]
    },
    {
      "cell_type": "markdown",
      "source": [
        "## EQUIPO 1\n",
        "##NOMBRE DE LOS INTEGRANTES:\n",
        "#### Cadena Martínez Arturo\n",
        "#### Hernández Rivera Jesús Iván\n",
        "#### López Camacho Donovan Uriel\n",
        "#### Martínez Martínez Fatima Jakelín\n",
        "#### Soto Lee Héctor Emilio\n"
      ],
      "metadata": {
        "id": "kNLNa8QVHXNv"
      }
    },
    {
      "cell_type": "markdown",
      "source": [
        "## Algunos conceptos de Python.\n",
        "\n",
        "\n",
        "*   Es un lenguaje orientado a objetos.\n",
        "*   Objetos: int, float, str, listas (list), vectores (arrays), conjuntos (set), diccionarios, DataFrames, etcétera.  \n",
        "\n",
        "\n",
        "\n"
      ],
      "metadata": {
        "id": "54SCtpePWDh9"
      }
    },
    {
      "cell_type": "markdown",
      "source": [
        "# Probabilidad clásica.\n"
      ],
      "metadata": {
        "id": "znQx0ZZSVJqm"
      }
    },
    {
      "cell_type": "code",
      "execution_count": null,
      "metadata": {
        "colab": {
          "base_uri": "https://localhost:8080/"
        },
        "id": "WRPxx_wjRHro",
        "outputId": "27fdc2ec-fe08-4167-a5b0-58189539c50f"
      },
      "outputs": [
        {
          "output_type": "stream",
          "name": "stdout",
          "text": [
            "9\n",
            "0.8\n",
            "20\n",
            "1024\n",
            "0\n"
          ]
        }
      ],
      "source": [
        "# celda de código\n",
        "\n",
        "print(4+5)   # sumar\n",
        "print(4/5)   # división\n",
        "print(4*5)   # multiplicación\n",
        "print(4**5)  # potenciar\n",
        "print(4//5)  # división al piso"
      ]
    },
    {
      "cell_type": "markdown",
      "source": [
        "División al piso: Si $x\\in \\mathbb{R}$, la función piso:\n",
        "$$\\lfloor x \\rfloor=\\max\\{m\\in \\mathbb{Z} \\mid m\\leq x \\}$$"
      ],
      "metadata": {
        "id": "laR_k9kFk0Q6"
      }
    },
    {
      "cell_type": "code",
      "source": [
        "9//4"
      ],
      "metadata": {
        "colab": {
          "base_uri": "https://localhost:8080/"
        },
        "id": "DENkiGXvVcnG",
        "outputId": "6935271a-7faa-4306-82ae-4ad643ca3514"
      },
      "execution_count": null,
      "outputs": [
        {
          "output_type": "execute_result",
          "data": {
            "text/plain": [
              "2"
            ]
          },
          "metadata": {},
          "execution_count": 3
        }
      ]
    },
    {
      "cell_type": "markdown",
      "source": [
        "Operación modular: Sean $a$ y $b$ números reales.\n",
        "\n",
        "El residuo de dividir a entre b se llama operación modular. En Python, se escribe a%b"
      ],
      "metadata": {
        "id": "WSma0Z4hmbTr"
      }
    },
    {
      "cell_type": "code",
      "source": [
        "5%2"
      ],
      "metadata": {
        "colab": {
          "base_uri": "https://localhost:8080/"
        },
        "id": "zi1gw_kPmvv8",
        "outputId": "a60cfb60-25f0-4205-9f6f-354996c8d76a"
      },
      "execution_count": null,
      "outputs": [
        {
          "output_type": "execute_result",
          "data": {
            "text/plain": [
              "1"
            ]
          },
          "metadata": {},
          "execution_count": 4
        }
      ]
    },
    {
      "cell_type": "markdown",
      "source": [
        "### Listas\n",
        "\n",
        "Una lista es una manera de organizar objetos.\n",
        "\n"
      ],
      "metadata": {
        "id": "fyqU3ZspnbSK"
      }
    },
    {
      "cell_type": "code",
      "source": [
        "# variables\n",
        "lista_1 = [1, 3.2, \"Hola\", False, {\"A\", \"S\"}]\n",
        "lista_1"
      ],
      "metadata": {
        "colab": {
          "base_uri": "https://localhost:8080/"
        },
        "id": "Q7VUlwRDoHID",
        "outputId": "deb8b8b6-205b-490d-ecf2-86b69c3cccd4"
      },
      "execution_count": null,
      "outputs": [
        {
          "output_type": "execute_result",
          "data": {
            "text/plain": [
              "[1, 3.2, 'Hola', False, {'A', 'S'}]"
            ]
          },
          "metadata": {},
          "execution_count": 5
        }
      ]
    },
    {
      "cell_type": "code",
      "source": [
        "# La función type nos dice qué tipo de objeto se tiene\n",
        "type(lista_1)"
      ],
      "metadata": {
        "colab": {
          "base_uri": "https://localhost:8080/"
        },
        "id": "FV62zMEepFlS",
        "outputId": "1712963d-59ff-4bb9-e205-6566bfedbf3a"
      },
      "execution_count": null,
      "outputs": [
        {
          "output_type": "execute_result",
          "data": {
            "text/plain": [
              "list"
            ]
          },
          "metadata": {},
          "execution_count": 7
        }
      ]
    },
    {
      "cell_type": "code",
      "source": [
        "type(5+8)"
      ],
      "metadata": {
        "colab": {
          "base_uri": "https://localhost:8080/"
        },
        "id": "i2HNci8Cpceb",
        "outputId": "2ec3c8dd-0c05-4c88-9185-9de1ddbff9a0"
      },
      "execution_count": null,
      "outputs": [
        {
          "output_type": "execute_result",
          "data": {
            "text/plain": [
              "int"
            ]
          },
          "metadata": {},
          "execution_count": 6
        }
      ]
    },
    {
      "cell_type": "markdown",
      "source": [
        "#### Ingresos a elementos.\n",
        "\n",
        "Si tenemos una lista\n",
        "$$L = [e_{1}, e_{2}, \\dots, e_{n}]$$\n",
        "entonces, si queremos ingresar al $e_{i}$ elemento:\n",
        "$$L[i-1].$$"
      ],
      "metadata": {
        "id": "mU8Q4BACq64Y"
      }
    },
    {
      "cell_type": "code",
      "source": [
        "type(lista_1[4])"
      ],
      "metadata": {
        "colab": {
          "base_uri": "https://localhost:8080/"
        },
        "id": "H_NZJT5Jrwab",
        "outputId": "92a45d84-1d88-4246-b257-707c06347a17"
      },
      "execution_count": null,
      "outputs": [
        {
          "output_type": "execute_result",
          "data": {
            "text/plain": [
              "set"
            ]
          },
          "metadata": {},
          "execution_count": 8
        }
      ]
    },
    {
      "cell_type": "code",
      "source": [
        "lista_1[5]"
      ],
      "metadata": {
        "colab": {
          "base_uri": "https://localhost:8080/",
          "height": 141
        },
        "id": "CLdbjxb0sfhm",
        "outputId": "42b9331f-3b3b-475e-cae7-03e751d15bfa"
      },
      "execution_count": null,
      "outputs": [
        {
          "output_type": "error",
          "ename": "IndexError",
          "evalue": "list index out of range",
          "traceback": [
            "\u001b[0;31m---------------------------------------------------------------------------\u001b[0m",
            "\u001b[0;31mIndexError\u001b[0m                                Traceback (most recent call last)",
            "\u001b[0;32m<ipython-input-9-f2e8ba98b710>\u001b[0m in \u001b[0;36m<cell line: 1>\u001b[0;34m()\u001b[0m\n\u001b[0;32m----> 1\u001b[0;31m \u001b[0mlista_1\u001b[0m\u001b[0;34m[\u001b[0m\u001b[0;36m5\u001b[0m\u001b[0;34m]\u001b[0m\u001b[0;34m\u001b[0m\u001b[0;34m\u001b[0m\u001b[0m\n\u001b[0m",
            "\u001b[0;31mIndexError\u001b[0m: list index out of range"
          ]
        }
      ]
    },
    {
      "cell_type": "markdown",
      "source": [
        "#### Generador de índices (etiquetas de Python).\n",
        "\n",
        "Este generador de índices, se llama `range(n)`"
      ],
      "metadata": {
        "id": "TrDYVqWus3gL"
      }
    },
    {
      "cell_type": "code",
      "source": [
        "range(10)"
      ],
      "metadata": {
        "colab": {
          "base_uri": "https://localhost:8080/"
        },
        "id": "FmnUYp5Hs2GN",
        "outputId": "0369dd21-8382-4eb7-cb9f-15fa76ea1f9c"
      },
      "execution_count": null,
      "outputs": [
        {
          "output_type": "execute_result",
          "data": {
            "text/plain": [
              "range(0, 10)"
            ]
          },
          "metadata": {},
          "execution_count": 10
        }
      ]
    },
    {
      "cell_type": "code",
      "source": [
        "for i in range(10):\n",
        "  print(i)"
      ],
      "metadata": {
        "colab": {
          "base_uri": "https://localhost:8080/"
        },
        "id": "9-cnBJtguLo2",
        "outputId": "7ffd691e-e40d-4dc7-b7bd-15fe750b7762"
      },
      "execution_count": null,
      "outputs": [
        {
          "output_type": "stream",
          "name": "stdout",
          "text": [
            "0\n",
            "1\n",
            "2\n",
            "3\n",
            "4\n",
            "5\n",
            "6\n",
            "7\n",
            "8\n",
            "9\n"
          ]
        }
      ]
    },
    {
      "cell_type": "code",
      "source": [
        "lista_2 = [i for i in range(1, 6)]\n",
        "lista_2"
      ],
      "metadata": {
        "colab": {
          "base_uri": "https://localhost:8080/"
        },
        "id": "5OmXQnkvuakn",
        "outputId": "355966f2-6a71-4aca-fd46-c22667c7cf18"
      },
      "execution_count": null,
      "outputs": [
        {
          "output_type": "execute_result",
          "data": {
            "text/plain": [
              "[1, 2, 3, 4, 5]"
            ]
          },
          "metadata": {},
          "execution_count": 12
        }
      ]
    },
    {
      "cell_type": "code",
      "source": [
        "# Agregar elementos a una lista append\n",
        "\n",
        "L = []\n",
        "\n",
        "for i in range(2,6):\n",
        "  L.append(i)        # append es para listas"
      ],
      "metadata": {
        "id": "YI4xQ2DuvPdt"
      },
      "execution_count": null,
      "outputs": []
    },
    {
      "cell_type": "code",
      "source": [
        "L"
      ],
      "metadata": {
        "colab": {
          "base_uri": "https://localhost:8080/"
        },
        "id": "Zu_DSWVCvheq",
        "outputId": "9e354295-379e-40d3-a37c-eade68c5da77"
      },
      "execution_count": null,
      "outputs": [
        {
          "output_type": "execute_result",
          "data": {
            "text/plain": [
              "[2, 3, 4, 5]"
            ]
          },
          "metadata": {},
          "execution_count": 14
        }
      ]
    },
    {
      "cell_type": "markdown",
      "source": [
        "## Modelo clásico laplaciano"
      ],
      "metadata": {
        "id": "J5I0uIiQV-oM"
      }
    },
    {
      "cell_type": "markdown",
      "source": [
        "### Ejemplo: Lanzamiento de 3 monedas.\n",
        "\n",
        "Se tiene el siguiente experimento aleatorio. Se lanzan, de manera independiente, 3 monedas.\n",
        "\n",
        "El espacio muestral es:\n",
        "$$\\Omega=\\{A, S\\}\\times \\{A, S\\}\\times \\{A,S\\}=\\{ A, S\\}^{3}.$$"
      ],
      "metadata": {
        "id": "Uz2lGaLipsb1"
      }
    },
    {
      "cell_type": "markdown",
      "source": [
        "$$\\text{card}(\\Omega)=2^3=8.$$"
      ],
      "metadata": {
        "id": "s0xi1xYdwPCK"
      }
    },
    {
      "cell_type": "markdown",
      "source": [
        "Tenemos\n",
        "$$\\mathcal{F}=p(\\Omega)$$\n",
        "$$\\text{card}(\\mathcal{F})=2^{8}.$$"
      ],
      "metadata": {
        "id": "zoT5Pw_z0QMh"
      }
    },
    {
      "cell_type": "markdown",
      "source": [
        "$\\color{cyan}{Definición \\ de  \\ probabilidad \\ clásica \\ (modelo \\ laplaciano)}$.\n",
        "\n",
        "Si $E$ es un evento, la función de probabilidad:\n",
        "$$\\mathbb{P}(E)=\\frac{\\text{card}(E)}{\\text{card}(\\Omega)}$$\n"
      ],
      "metadata": {
        "id": "HzXgNRtb2VtW"
      }
    },
    {
      "cell_type": "code",
      "source": [
        "# Hay 256 posibles eventos\n",
        "\n",
        "2**8"
      ],
      "metadata": {
        "colab": {
          "base_uri": "https://localhost:8080/"
        },
        "id": "C7WV8JLn0xbP",
        "outputId": "1f1c7dc2-aa34-47dc-b3a0-8a831fc89379"
      },
      "execution_count": null,
      "outputs": [
        {
          "output_type": "execute_result",
          "data": {
            "text/plain": [
              "256"
            ]
          },
          "metadata": {},
          "execution_count": 15
        }
      ]
    },
    {
      "cell_type": "code",
      "source": [
        "# Vamos a crear el código para Omega\n",
        "\n",
        "import itertools\n",
        "from itertools import product\n",
        "\n",
        "Omega = set(product({\"A\", \"S\"}, repeat= 3))\n",
        "Omega"
      ],
      "metadata": {
        "colab": {
          "base_uri": "https://localhost:8080/"
        },
        "id": "jBVZF3Y5V_tx",
        "outputId": "1a34db59-f118-4810-c7a6-a565e7da58e0"
      },
      "execution_count": null,
      "outputs": [
        {
          "output_type": "execute_result",
          "data": {
            "text/plain": [
              "{('A', 'A', 'A'),\n",
              " ('A', 'A', 'S'),\n",
              " ('A', 'S', 'A'),\n",
              " ('A', 'S', 'S'),\n",
              " ('S', 'A', 'A'),\n",
              " ('S', 'A', 'S'),\n",
              " ('S', 'S', 'A'),\n",
              " ('S', 'S', 'S')}"
            ]
          },
          "metadata": {},
          "execution_count": 16
        }
      ]
    },
    {
      "cell_type": "code",
      "source": [
        "len(Omega)"
      ],
      "metadata": {
        "colab": {
          "base_uri": "https://localhost:8080/"
        },
        "id": "bpdPFGu8zZdY",
        "outputId": "2dc00cca-1a57-4892-b607-43663788e164"
      },
      "execution_count": null,
      "outputs": [
        {
          "output_type": "execute_result",
          "data": {
            "text/plain": [
              "8"
            ]
          },
          "metadata": {},
          "execution_count": 17
        }
      ]
    },
    {
      "cell_type": "code",
      "source": [
        "T = (\"A\", \"A\", \"A\")\n",
        "T[0]"
      ],
      "metadata": {
        "colab": {
          "base_uri": "https://localhost:8080/",
          "height": 36
        },
        "id": "9mjA3wkD4SfL",
        "outputId": "24a815f3-79a4-497a-a150-51afcf7410e6"
      },
      "execution_count": null,
      "outputs": [
        {
          "output_type": "execute_result",
          "data": {
            "text/plain": [
              "'A'"
            ],
            "application/vnd.google.colaboratory.intrinsic+json": {
              "type": "string"
            }
          },
          "metadata": {},
          "execution_count": 18
        }
      ]
    },
    {
      "cell_type": "markdown",
      "source": [
        "Consideremos los siguientes eventos:\n",
        "\n",
        "\n",
        "1.   A: todas las caras sean águilas.\n",
        "2.   S: todas las caras sean soles.\n",
        "3.   E: por lo menos una cara sea sol.\n",
        "\n"
      ],
      "metadata": {
        "id": "fBG9PCLg1nbY"
      }
    },
    {
      "cell_type": "markdown",
      "source": [
        "Vamos a contestar la primer pregunta.\n",
        "\n",
        "Llamemos como $A_{i}$ al evento en donde cae águila en el $i$-ésimo resultado.\n",
        "\n",
        "Así,\n",
        "$$A=A_{1}\\cap A_{2}\\cap A_{3}.$$"
      ],
      "metadata": {
        "id": "wDD4fndv3Q7R"
      }
    },
    {
      "cell_type": "code",
      "source": [
        "# Creamos a nuestro primer evento\n",
        "\n",
        "A_1 = {om for om in Omega if om[0]==\"A\"}\n",
        "A_1"
      ],
      "metadata": {
        "colab": {
          "base_uri": "https://localhost:8080/"
        },
        "id": "EIvKamBkz6Np",
        "outputId": "a8ae1867-b000-43a8-e128-cca826c88f92"
      },
      "execution_count": null,
      "outputs": [
        {
          "output_type": "execute_result",
          "data": {
            "text/plain": [
              "{('A', 'A', 'A'), ('A', 'A', 'S'), ('A', 'S', 'A'), ('A', 'S', 'S')}"
            ]
          },
          "metadata": {},
          "execution_count": 19
        }
      ]
    },
    {
      "cell_type": "code",
      "source": [
        "# Creamos a nuestro segundo evento\n",
        "\n",
        "A_2 = {om for om in Omega if om[1]==\"A\"}\n",
        "A_2"
      ],
      "metadata": {
        "colab": {
          "base_uri": "https://localhost:8080/"
        },
        "id": "fN0FDYAk5TdL",
        "outputId": "8d13d8dc-3cae-41c7-967c-d595e2e1aba2"
      },
      "execution_count": null,
      "outputs": [
        {
          "output_type": "execute_result",
          "data": {
            "text/plain": [
              "{('A', 'A', 'A'), ('A', 'A', 'S'), ('S', 'A', 'A'), ('S', 'A', 'S')}"
            ]
          },
          "metadata": {},
          "execution_count": 20
        }
      ]
    },
    {
      "cell_type": "code",
      "source": [
        "# Creamos a nuestro tercer evento\n",
        "\n",
        "A_3 = {om for om in Omega if om[2]==\"A\"}\n",
        "A_3"
      ],
      "metadata": {
        "colab": {
          "base_uri": "https://localhost:8080/"
        },
        "id": "WqWjEFSW5fv0",
        "outputId": "837eb193-27a7-4796-f736-91f57e4fcf21"
      },
      "execution_count": null,
      "outputs": [
        {
          "output_type": "execute_result",
          "data": {
            "text/plain": [
              "{('A', 'A', 'A'), ('A', 'S', 'A'), ('S', 'A', 'A'), ('S', 'S', 'A')}"
            ]
          },
          "metadata": {},
          "execution_count": 21
        }
      ]
    },
    {
      "cell_type": "markdown",
      "source": [
        "Usamos la función `intersection`."
      ],
      "metadata": {
        "id": "6iQJhCEc5vIj"
      }
    },
    {
      "cell_type": "code",
      "source": [
        "A = A_1.intersection(A_2.intersection(A_3))\n",
        "A"
      ],
      "metadata": {
        "colab": {
          "base_uri": "https://localhost:8080/"
        },
        "id": "1u21fgtR5nLx",
        "outputId": "43cf64bc-14c5-4869-c275-69b931781ab7"
      },
      "execution_count": null,
      "outputs": [
        {
          "output_type": "execute_result",
          "data": {
            "text/plain": [
              "{('A', 'A', 'A')}"
            ]
          },
          "metadata": {},
          "execution_count": 22
        }
      ]
    },
    {
      "cell_type": "code",
      "source": [
        "P_A = len(A)/len(Omega)\n",
        "P_A"
      ],
      "metadata": {
        "colab": {
          "base_uri": "https://localhost:8080/"
        },
        "id": "JdziT2JK6De8",
        "outputId": "a9171945-7598-4676-a5d6-7144b1c3eaa0"
      },
      "execution_count": null,
      "outputs": [
        {
          "output_type": "execute_result",
          "data": {
            "text/plain": [
              "0.125"
            ]
          },
          "metadata": {},
          "execution_count": 23
        }
      ]
    },
    {
      "cell_type": "code",
      "source": [
        "A = {om for om in Omega if om.count(\"A\")==3}\n",
        "A"
      ],
      "metadata": {
        "colab": {
          "base_uri": "https://localhost:8080/"
        },
        "id": "yuHawmvD6bxP",
        "outputId": "db9c39fe-c4b1-431a-89ca-9ebcedab2177"
      },
      "execution_count": null,
      "outputs": [
        {
          "output_type": "execute_result",
          "data": {
            "text/plain": [
              "{('A', 'A', 'A')}"
            ]
          },
          "metadata": {},
          "execution_count": 24
        }
      ]
    },
    {
      "cell_type": "markdown",
      "source": [
        "##### Creación de funciones (globales)."
      ],
      "metadata": {
        "id": "KH9toVHY81vx"
      }
    },
    {
      "cell_type": "markdown",
      "source": [
        "Vamos a crear una función que calcule la probabilidad de un evento dentro de un espacio muestral en el contexto clásico."
      ],
      "metadata": {
        "id": "URknUKua9UYn"
      }
    },
    {
      "cell_type": "code",
      "source": [
        "from fractions import Fraction\n",
        "\n",
        "def P(E, Omega):\n",
        "  p = Fraction(len(E),len(Omega))\n",
        "  return p"
      ],
      "metadata": {
        "id": "YgrQ1WMa8S7D"
      },
      "execution_count": null,
      "outputs": []
    },
    {
      "cell_type": "code",
      "source": [
        "P(A, Omega)"
      ],
      "metadata": {
        "colab": {
          "base_uri": "https://localhost:8080/"
        },
        "id": "Hu65Q1x9--Qj",
        "outputId": "aff42a3c-d1d0-4943-dbfd-ec4eaca3ac62"
      },
      "execution_count": null,
      "outputs": [
        {
          "output_type": "execute_result",
          "data": {
            "text/plain": [
              "Fraction(1, 8)"
            ]
          },
          "metadata": {},
          "execution_count": 26
        }
      ]
    },
    {
      "cell_type": "code",
      "source": [
        "S = {om for om in Omega if om.count(\"S\")==3}\n",
        "S"
      ],
      "metadata": {
        "colab": {
          "base_uri": "https://localhost:8080/"
        },
        "id": "CvuP6vQI_Cm2",
        "outputId": "7a6c3c73-40cd-4688-bc9d-d62d6f22dac5"
      },
      "execution_count": null,
      "outputs": [
        {
          "output_type": "execute_result",
          "data": {
            "text/plain": [
              "{('S', 'S', 'S')}"
            ]
          },
          "metadata": {},
          "execution_count": 27
        }
      ]
    },
    {
      "cell_type": "code",
      "source": [
        "P(S,Omega)"
      ],
      "metadata": {
        "colab": {
          "base_uri": "https://localhost:8080/"
        },
        "id": "1ZSRlMZw_d-j",
        "outputId": "17716ab4-6310-45bb-d3eb-30a64a07244d"
      },
      "execution_count": null,
      "outputs": [
        {
          "output_type": "execute_result",
          "data": {
            "text/plain": [
              "Fraction(1, 8)"
            ]
          },
          "metadata": {},
          "execution_count": 28
        }
      ]
    },
    {
      "cell_type": "code",
      "source": [
        "S1 = {om for om in Omega if om.count(\"S\")>0}\n",
        "S1"
      ],
      "metadata": {
        "id": "UYyONNOR_gTI",
        "colab": {
          "base_uri": "https://localhost:8080/"
        },
        "outputId": "7f2281b5-be98-4137-f093-64836e1142ae"
      },
      "execution_count": null,
      "outputs": [
        {
          "output_type": "execute_result",
          "data": {
            "text/plain": [
              "{('A', 'A', 'S'),\n",
              " ('A', 'S', 'A'),\n",
              " ('A', 'S', 'S'),\n",
              " ('S', 'A', 'A'),\n",
              " ('S', 'A', 'S'),\n",
              " ('S', 'S', 'A'),\n",
              " ('S', 'S', 'S')}"
            ]
          },
          "metadata": {},
          "execution_count": 29
        }
      ]
    },
    {
      "cell_type": "code",
      "source": [
        "P(S1,Omega)"
      ],
      "metadata": {
        "colab": {
          "base_uri": "https://localhost:8080/"
        },
        "id": "y3lKqKJBGJpI",
        "outputId": "fe988c39-30d3-41f2-91ac-28d7070afb83"
      },
      "execution_count": null,
      "outputs": [
        {
          "output_type": "execute_result",
          "data": {
            "text/plain": [
              "Fraction(7, 8)"
            ]
          },
          "metadata": {},
          "execution_count": 30
        }
      ]
    },
    {
      "cell_type": "code",
      "source": [
        "A2 = {om for om in Omega if om.count(\"A\")>=2}\n",
        "A2"
      ],
      "metadata": {
        "colab": {
          "base_uri": "https://localhost:8080/"
        },
        "id": "o9vLHiozGclx",
        "outputId": "8f30d417-0760-4d3f-97fc-24e78efd0309"
      },
      "execution_count": null,
      "outputs": [
        {
          "output_type": "execute_result",
          "data": {
            "text/plain": [
              "{('A', 'A', 'A'), ('A', 'A', 'S'), ('A', 'S', 'A'), ('S', 'A', 'A')}"
            ]
          },
          "metadata": {},
          "execution_count": 32
        }
      ]
    },
    {
      "cell_type": "code",
      "source": [
        "P(A2,Omega)"
      ],
      "metadata": {
        "colab": {
          "base_uri": "https://localhost:8080/"
        },
        "id": "0e17mKiQG8FS",
        "outputId": "85690372-fe2b-4bda-bd6c-18ee7f4d5f94"
      },
      "execution_count": null,
      "outputs": [
        {
          "output_type": "execute_result",
          "data": {
            "text/plain": [
              "Fraction(1, 2)"
            ]
          },
          "metadata": {},
          "execution_count": 33
        }
      ]
    }
  ]
}