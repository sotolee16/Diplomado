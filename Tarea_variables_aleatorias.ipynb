{
  "nbformat": 4,
  "nbformat_minor": 0,
  "metadata": {
    "colab": {
      "provenance": [],
      "include_colab_link": true
    },
    "kernelspec": {
      "name": "python3",
      "display_name": "Python 3"
    },
    "language_info": {
      "name": "python"
    }
  },
  "cells": [
    {
      "cell_type": "markdown",
      "metadata": {
        "id": "view-in-github",
        "colab_type": "text"
      },
      "source": [
        "<a href=\"https://colab.research.google.com/github/sotolee16/Experimento-de-dos-dados/blob/main/Tarea_variables_aleatorias.ipynb\" target=\"_parent\"><img src=\"https://colab.research.google.com/assets/colab-badge.svg\" alt=\"Open In Colab\"/></a>"
      ]
    },
    {
      "cell_type": "markdown",
      "source": [
        "**Equipo 1:**\n",
        "\n",
        "- Cadena Martínez Arturo\n",
        "\n",
        "- Hernández Rivera Jesús Iván\n",
        "\n",
        "- López Camacho Donovan Uriel\n",
        "\n",
        "- Martínez Martínez Fatima Jakelín\n",
        "\n",
        "- Soto Lee Héctor Emilio\n"
      ],
      "metadata": {
        "id": "YGQOufm98c1i"
      }
    },
    {
      "cell_type": "markdown",
      "source": [
        "**Ejercicios:**\n",
        "\n",
        "**1.- Dibuja la función de distribución acumulada de una variable aleatoria $X\\sim \\text{Binom}(3,0.3)$. Calcula $\\mathbb{P}(X\\leq 2)$.**\n",
        "\n"
      ],
      "metadata": {
        "id": "c0Q9qipN7lzm"
      }
    },
    {
      "cell_type": "code",
      "source": [
        "import matplotlib.pyplot as plt\n",
        "import numpy as np\n",
        "from scipy.stats import binom\n",
        "\n",
        "# Parámetros de la distribución binomial\n",
        "n = 3\n",
        "p = 0.3\n",
        "\n",
        "# Valores posibles de la variable aleatoria\n",
        "x = np.arange(0, n + 1)\n",
        "\n",
        "# Calculamos las probas para cada x y sumamos para construir CDF\n",
        "pdf = np.array([binom.pmf(k, n, p) for k in x])\n",
        "probas = pdf.cumsum()\n",
        "\n",
        "# Graficar la distribución acumulada\n",
        "plt.plot(x, probas, \"ro\")\n",
        "plt.plot([-1,0], [0,0], \"b-\")\n",
        "plt.plot([x[0],x[1]],[probas[0], probas[0]], \"b-\" )\n",
        "plt.plot([x[1],x[2]],[probas[1], probas[1]], \"b-\" )\n",
        "plt.plot([x[2],x[3]],[probas[2], probas[2]], \"b-\" )\n",
        "plt.plot([x[3], 4], [probas[3], probas[3]], \"b-\")\n",
        "plt.axis([-1,4,0,1.1])\n",
        "\n",
        "# Añadimos etiquetas y título\n",
        "plt.xlabel('Número de éxitos')\n",
        "plt.ylabel('Probabilidad acumulada')\n",
        "plt.title('CDF Binomial(n=3, p=0.3)')\n",
        "plt.legend()\n",
        "plt.grid()\n",
        "plt.show()\n",
        "\n"
      ],
      "metadata": {
        "colab": {
          "base_uri": "https://localhost:8080/",
          "height": 509
        },
        "id": "ChNccxMBYkAT",
        "outputId": "a7055776-5d44-4ff9-c2a6-2986aa83f9b8"
      },
      "execution_count": null,
      "outputs": [
        {
          "output_type": "stream",
          "name": "stderr",
          "text": [
            "WARNING:matplotlib.legend:No artists with labels found to put in legend.  Note that artists whose label start with an underscore are ignored when legend() is called with no argument.\n"
          ]
        },
        {
          "output_type": "display_data",
          "data": {
            "text/plain": [
              "<Figure size 640x480 with 1 Axes>"
            ],
            "image/png": "[encoded data removed]"
          },
          "metadata": {}
        }
      ]
    },
    {
      "cell_type": "code",
      "source": [
        "# Para calcular la probabilidad que X <= 2 podemos tomar el valor de la CDF en 2 o bien sumar las probabilidades para 0, 1 y 2\n",
        "print(f\"La probabilidad que la variable tome un valor menor o igual a 2 es {pdf[:3].sum()}\")"
      ],
      "metadata": {
        "colab": {
          "base_uri": "https://localhost:8080/"
        },
        "id": "S5gDZP3XdlIb",
        "outputId": "8d4a45c7-2746-4b5a-9a90-3a3c5fc44d49"
      },
      "execution_count": null,
      "outputs": [
        {
          "output_type": "stream",
          "name": "stdout",
          "text": [
            "La probabilidad que la variable tome un valor menor o igual a 2 es 0.9729999999999996\n"
          ]
        }
      ]
    },
    {
      "cell_type": "markdown",
      "source": [
        "**2.- Determina si la variable aleatoria dada es una variable aleatoria binomial. Si es así, da los valores de los parámetros $n$ y $p$. Si no es binomial, justifica tu respuesta.**"
      ],
      "metadata": {
        "id": "a9Z9uR0JI0p2"
      }
    },
    {
      "cell_type": "markdown",
      "source": [
        " - **$X$ es el número de canicas negras en una muestra de $5$ canicas extraídas al azar y sin reemplazo de una caja que contiene $25$ canicas blancas y $15$ canicas negras.**\n",
        "\n"
      ],
      "metadata": {
        "id": "hmiI1vBOIiJl"
      }
    },
    {
      "cell_type": "markdown",
      "source": [
        "***Respuesta.*** No es uan v.a binomial, pues la distribución binomial se aplica cuando realizamos una serie de $n$ ensayos independientes, cada uno con dos resultados posibles (éxito o fracaso), con una probabilidad constante $p$ de éxito en cada ensayo y en este caso $p$ es variable porque las bolas en la urna no tienen reemplazo."
      ],
      "metadata": {
        "id": "Di6T5Fyifr57"
      }
    },
    {
      "cell_type": "markdown",
      "source": [
        "\n",
        "\n",
        "- **$X$ es el número de canicas negras en una muestra de 5\n",
        " canicas extraídas al azar y con reemplazo de una caja que contiene $25$\n",
        " canicas blancas y $15$\n",
        " canicas negras.**\n",
        "\n",
        " R. Sí es una variable aleatoria binomial, ya que como la muestra cuenta con reemplazo la probabilidad de sacar una bola negra siempre será constante. Además de que los eventos son independientes entre sí.\n",
        "\n",
        " Con esto, podemos calcular los valores de los parámetros de $n$ y $p$, los cuales son:\n",
        " - $n = 5$\n",
        " - $p = 15/40 = 0.375$"
      ],
      "metadata": {
        "id": "ALX2T7du9liN"
      }
    },
    {
      "cell_type": "markdown",
      "source": [
        "- **$X$ es el número de votantes a favor de la ley propuesta en una muestra de $1200$ votantes seleccionados aleatoriamente de todo el electorado de un país en el que el $35\\%$ de los votantes están a favor de la ley.**\n"
      ],
      "metadata": {
        "id": "7WylNTd8IrWc"
      }
    },
    {
      "cell_type": "markdown",
      "source": [
        "***Respuesta.*** Si es una variable aleatoria binomial, ya que se tiene un número fijo de ensayos (la cantidad de votantes), se tienen dos posibles resultados (que esten o no a favor de la ley), la independencia entre el voto de cada uno (dado que un votante no puede inferir en la decisión de otros), además se tiene un probabilidad fija de que cada votante este a favor de la ley propuesta. Así que, los valores de los parámetros son $n=120$ y $p=0.35$, dejando: $$X\\sim \\text{Binom}(120,0.35)$$"
      ],
      "metadata": {
        "id": "1VoqihXCKK5n"
      }
    },
    {
      "cell_type": "markdown",
      "source": [
        "- **$X$ es el número de monedas que coinciden con al menos otra moneda cuando se lanzan cuatro monedas a la vez.**\n",
        "\n",
        "**R.** Sí es una variable aleatoria binomial dado que todos los lanzamientos son independientes entre sí y tienen la misma probabilidad de éxito. Teniendo  que $ n=4 $ y $p=0.5$."
      ],
      "metadata": {
        "id": "1eLZGGfqAjcC"
      }
    },
    {
      "cell_type": "markdown",
      "source": [
        "**3.- Investiga $5$ aplicaciones del uso de la variable aleatoria Poisson en la vida diaria y/o en tu experiencia.**"
      ],
      "metadata": {
        "id": "3ckjwO0AEMwT"
      }
    },
    {
      "cell_type": "markdown",
      "source": [
        "1. Operaciones bursátiles. En el mundo de los mercados y la bolsa se utiliza la distribución de Poisson para calcular el riesgo de las operaciones en los tiempos de espera entre transacciones financieras.\n",
        "2. Número de clientes en una tienda: La llegada de clientes a una tienda puede seguir una distribución Poisson para modelar la cantidad de clientes que llegarán durante el día.\n",
        "3. El número de peticiones de servicio diarias de un servidor web.\n",
        "4. Número de accidentes automovilísticos en una intersección.\n",
        "5. Número de clientes de una tienda en un día."
      ],
      "metadata": {
        "id": "80CLqjDSEOfN"
      }
    },
    {
      "cell_type": "code",
      "execution_count": null,
      "metadata": {
        "id": "vc9z78Hi6Zol"
      },
      "outputs": [],
      "source": []
    }
  ]
}