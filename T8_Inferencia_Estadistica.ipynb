{
  "nbformat": 4,
  "nbformat_minor": 0,
  "metadata": {
    "colab": {
      "provenance": [],
      "include_colab_link": true
    },
    "kernelspec": {
      "name": "python3",
      "display_name": "Python 3"
    },
    "language_info": {
      "name": "python"
    }
  },
  "cells": [
    {
      "cell_type": "markdown",
      "metadata": {
        "id": "view-in-github",
        "colab_type": "text"
      },
      "source": [
        "<a href=\"https://colab.research.google.com/github/sotolee16/Diplomado/blob/main/T8_Inferencia_Estadistica.ipynb\" target=\"_parent\"><img src=\"https://colab.research.google.com/assets/colab-badge.svg\" alt=\"Open In Colab\"/></a>"
      ]
    },
    {
      "cell_type": "markdown",
      "source": [
        "**Equipo 1:**\n",
        "\n",
        "- Cadena Martínez Arturo\n",
        "\n",
        "- Hernández Rivera Jesús Iván\n",
        "\n",
        "- López Camacho Donovan Uriel\n",
        "\n",
        "- Martínez Martínez Fatima Jakelín\n",
        "\n",
        "- Soto Lee Héctor Emilio"
      ],
      "metadata": {
        "id": "r9zWGqD79rJl"
      }
    },
    {
      "cell_type": "markdown",
      "source": [
        "1.- Investiga sobre el método de momentos y da dos ejemplos.\n",
        "\n",
        "El método consiste fundamentalmente en proponer como estimadores de los momentos\n",
        "poblacionales respecto al origen, a los correspondientes momentos muestrales.\n",
        "El método de los momentos consiste en igualar los momentos poblacionales con los\n",
        "correspondientes momentos muestrales, planteando tantas ecuaciones como parámetros desconocidos se tengan, resolviendo luego el sistema de ecuaciones para los parámentros desconocidos. Finalmente, se proponen como estimadores de los parámetros a aquellos que son soluciones del sistema de ecuaciones.\n",
        "\n",
        "# Ejemplos\n",
        "\n",
        "1. Sea X una variable aleatoria con función de densidad de probabilidad\n",
        "\n",
        "$f(x) = $$ \\left\\{\\begin{array}{ l }\n",
        "(\\frac{2}{\\theta^2})(\\theta-x) ; 0\\leq x \\leq \\theta\\\\\n",
        "0 ; \\text{ cualquier otro caso }\n",
        "\\end{array}\n",
        "\\right. $\n",
        "\n",
        "Obtener un estimador para el parámetro $\\theta$ por el método de los momentos.\n",
        "\n",
        "Resolución:\n",
        "\n",
        "Como en este caso sólo existe un parámetro desconocido, , sólo es necesario plantear una ecuación, igualando el primer momento poblacional con el primer\n",
        "momento muestral.\n",
        "\n",
        "$\\mu'_1 = m'_1$\n",
        "\n",
        "donde el primer momento poblacional es simplemente el valor esperado de la variable aleatoria X, o media poblacional:\n",
        "\n",
        "$\\mu'_1 = E[X] = \\int_{-\\infty}^{\\infty} xf(x)dx = \\int_{0}^{\\theta} x(\\frac{2}{\\theta^2})(\\theta-x)dx = \\int_{0}^{\\theta} x(\\frac{2}{\\theta^2})(\\theta-x)dx = \\int_{0}^{\\theta}(\\frac{2}{\\theta}x-\\frac{2}{\\theta^2}x^2)dx$\n",
        "\n",
        "$\\mu'_1 = [\\frac{x^2}{\\theta}-\\frac{2}{3\\theta^2}x^3]_0^\\theta = \\frac{\\theta}{3}$ ; $\\mu'_1 = \\frac{\\theta}{3}$\n",
        "\n",
        "Por otro lado, el primer momento muestral es:\n",
        "\n",
        "$\\mu'_1 = \\frac{1}{n}\\sum_{i=1}^{n}x_i$ obsérvese que el primer momento muestral es la media de la muestra: $\\mu = \\bar{X}$ así que, igualando momentos poblacionales con momentos muestrales tenemos:\n",
        "\n",
        "$\\frac{\\theta}{3} = \\bar{X}$\n",
        "\n",
        "Despejando al parámetro $\\theta$ tenemos que su estimador es:\n",
        "\n",
        "$\\hat{\\theta} = 3\\bar{X}$\n",
        "\n",
        "2. Sea una población con distribución normal, encontrar estimadores para los parámetros $\\theta$ y $\\sigma^2$, por el método de los momentos, basados en una muestra aleatoria simple de tamaño n.\n",
        "\n",
        "Resolución:\n",
        "\n",
        "Si X es una variable aleatoria normal, su función de densidad de probabilidad es:\n",
        "\n",
        "$f(x;\\mu,\\sigma^2) = \\frac{1}{\\sqrt{2\\pi\\sigma}}e^{-\\frac{1}{2}(\\frac{x-\\mu}{\\sigma})^2}$\n",
        "\n",
        "Como se tienen dos parámetros desconocidos, $\\mu$ y $\\sigma^2$, es necesario plantear dos ecuaciones.\n",
        "\n",
        "El primer momento poblacional es:\n",
        "\n",
        "$\\mu'_1 = \\int_{-\\infty}^{\\infty}x\\frac{1}{\\sqrt{2\\pi\\sigma}}e^{-\\frac{1}{2}(\\frac{x-\\mu}{\\sigma})^2}dx = \\mu$\n",
        "\n",
        "El segundo momento poblacional, respecto al origen es:\n",
        "\n",
        "$\\mu'_2 = E[x^2] = \\int_{-\\infty}^{\\infty}x^2(\\frac{1}{\\sqrt{2\\pi\\sigma}}e^{-\\frac{1}{2}(\\frac{x-\\mu}{\\sigma})^2})dx = \\sigma^2 + \\mu^2$\n",
        "\n",
        "Por otro lado, los primeros dos momentos muestrales respecto al origen son:\n",
        "\n",
        "$m'_1 = \\frac{1}{n}\\sum_{i=1}^{n}x_i$ y $m'_2 = \\frac{1}{n}\\sum_{i=1}^{n}x_i^2$\n",
        "\n",
        "Igualando los correspondientes momentos tenemos un sistema de dos ecuaciones con dos incógnitas:\n",
        "\n",
        "$\\mu'_1 = m'_1$  $\\mu = \\bar{X}$ $\\dots \\in$\n",
        "\n",
        "$\\mu'_2 = m'_2$ $\\sigma^2 + \\mu^2 = \\frac{1}{n}\\sum_{i=1}^{n}x_i^2$ $\\dots \\not\\in$\n",
        "\n",
        "Resolviendo el sistema de ecuaciones:\n",
        "\n",
        "Sustituyendo $\\in$ en $\\not\\in$:\n",
        "\n",
        "$\\sigma^2 + \\bar{X}^2 = \\frac{1}{n}\\sum_{i=1}^{n}x_i^2$\n",
        "\n",
        "$\\sigma^2 = \\frac{1}{n}\\sum_{i=1}^{n}x_i^2 - \\bar{X}^2$\n",
        "\n",
        "Por lo tanto, se proponen como estimadores, los que son solución del sistema:\n",
        "\n",
        "$\\hat{\\mu} = \\bar{X}$ y $\\hat{\\sigma}^2 = \\frac{1}{n}\\sum_{i=1}^{n}x_i^2 - \\bar{X}^2$\n",
        "\n",
        "Nótese que $\\hat{\\sigma}^2 = \\frac{1}{n}\\sum_{i=1}^{n}x_i^2 - \\bar{X}^2$ también puede escribirse como:$\\hat{\\sigma}^2 = \\frac{1}{n}\\sum_{i=1}^{n}(x_i - \\bar{X})^2$, que ya se ha visto que es un estimar sesgado de $\\sigma^2$.\n",
        "\n",
        "Tanto el método de los momentos como el método de máxima verosimilitud proporcionan estimadores que no siempre son insesgados, por lo que es deseable analizar posteriormente todas las propiedades de los estimadores que se obtengan por cualquiera de estos métodos; y dado el caso, corregirlos si ello es posible."
      ],
      "metadata": {
        "id": "Is0RIn3fVmJT"
      }
    },
    {
      "cell_type": "markdown",
      "source": [
        "2. Calcula el MLE para la media $\\mu$ y varianza $\\sigma^2$ de una muestra normal.\n",
        "\n",
        "***Resolución.*** Sea $X\\sim N(\\mu, \\sigma^2)$, la función de verosimilitud es la siguiente:\n",
        "\n",
        "$$L(x_1, x_2, \\dots, x_n; \\mu, \\sigma^2) = \\prod_{i=1}^{n} \\frac{1}{\\sqrt{2\\pi \\sigma^2}}exp\\left(-\\frac{(x_i-\\mu)^2}{2\\sigma^2}\\right) = \\left(\\frac{1}{\\sqrt{2\\pi \\sigma^2}}\\right)^n\\cdot exp\\left(-\\sum_{i=1}^{n}\\frac{(x_i-\\mu)^2}{2\\sigma^2}\\right)$$\n",
        "\n",
        "Aplicamos el $ln$ a la expresión obtenida anteriormente.\n",
        "\n",
        "\\begin{align*}\n",
        "ln(L(x_1, x_2, \\dots, x_n; \\mu, \\sigma^2)) &= ln\\left(\\left(\\frac{1}{\\sqrt{2\\pi \\sigma^2}}\\right)^n\\cdot exp\\left(-\\sum_{i=1}^{n}\\frac{(x_i-\\mu)^2}{2\\sigma^2}\\right)\\right)\\\\\n",
        "&= n\\cdot ln\\left(\\frac{1}{\\sqrt{2\\pi \\sigma^2}}\\right)- \\sum_{i=1}^{n}\\frac{(x_i-\\mu)^2}{2\\sigma^2} \\\\\n",
        "&= n\\cdot ln\\left(\\frac{1}{2\\pi \\sigma^2}\\right)^{\\frac{1}{2}}- \\sum_{i=1}^{n}\\frac{(x_i-\\mu)^2}{2\\sigma^2} \\\\\n",
        "&= \\frac{n}{2}\\cdot \\left(ln(1)-ln(2\\pi \\sigma^2)\\right)- \\frac{1}{2\\sigma^2}\\sum_{i=1}^{n}(x_i-\\mu)^2 \\\\\n",
        "&= \\frac{n}{2}\\cdot \\left(-ln(2\\pi)-ln(\\sigma^2)\\right)- \\frac{1}{2\\sigma^2}\\sum_{i=1}^{n}(x_i-\\mu)^2 \\\\\n",
        "\\end{align*}\n",
        "\n",
        "- $\\color{red}{\\text{Para la varianza.}}$\n",
        "\n",
        "Ahora derivamos con respecto de $\\sigma^2$ e igualamos a cero el resultado\n",
        "\n",
        "\\begin{align*}\n",
        "\\frac{\\partial}{\\partial \\sigma^2} ln(L(x_1, x_2, \\dots, x_n; \\mu, \\sigma^2)) &= -\\frac{n}{2\\sigma^2} + \\frac{1}{2\\sigma^4}\\sum_{i=1}^{n}(x_i-\\mu)^2 = 0\n",
        "\\end{align*}\n",
        "\n",
        "Despejamos $\\sigma^2$.\n",
        "\n",
        "\\begin{align*}\n",
        "-\\frac{2\\sigma^4n}{2\\sigma^2} + \\frac{2\\sigma^4}{2\\sigma^4}\\sum_{i=1}^{n}(x_i-\\mu)^2 &= 0 \\\\\n",
        "-n\\sigma^2 + \\sum_{i=1}^{n}(x_i-\\mu)^2 &= 0 \\\\\n",
        "\\sigma^2 &= \\frac{\\sum_{i=1}^{n}(x_i-\\mu)^2}{n}\n",
        "\\end{align*}\n",
        "\n",
        "Por lo tanto el $MLE$ de la varianza $\\sigma^2$ es:\n",
        "$$\\sigma^2 = \\frac{\\sum_{i=1}^{n}(x_i-\\mu)^2}{n}$$\n",
        "\n",
        "- $\\color{red}{\\text{Para la media.}}$\n",
        "\n",
        "Tenemos la siguiente función de verosimilitud para $X \\sim N(\\mu,\\sigma^2)$.\n",
        "\n",
        "$$ln(L(x_1, x_2, \\dots, x_n; \\mu, \\sigma^2)) = \\frac{n}{2}\\cdot \\left(-ln(2\\pi)-ln(\\sigma^2)\\right)- \\frac{1}{2\\sigma^2}\\sum_{i=1}^{n}(x_i-\\mu)^2$$\n",
        "\n",
        "Ahora derivamos con respecto de $\\mu$ e igualamos a cero el resultado.\n",
        "\n",
        "\\begin{align*}\n",
        "\\frac{\\partial}{\\partial \\mu} ln(L(x_1, x_2, \\dots, x_n; \\mu, \\sigma^2)) &=  \\frac{1}{2\\sigma^2}\\sum_{i=1}^{n}2(x_i-\\mu) \\\\\n",
        "&= \\frac{1}{\\sigma^2}\\sum_{i=1}^{n}(x_i-\\mu) = 0\n",
        "\\end{align*}\n",
        "\n",
        "Despejamos $\\mu$.\n",
        "\n",
        "\\begin{align*}\n",
        "\\frac{1}{\\sigma^2}\\sum_{i=1}^{n}(x_i-\\mu) &= 0 \\\\\n",
        "\\sum_{i=1}^{n}x_i-n\\mu&= 0 \\\\\n",
        "\\mu &= \\frac{\\sum_{i=1}^{n}x_i}{n}\n",
        "\\end{align*}\n",
        "\n",
        "Por lo tanto el $MLE$ de la media $\\mu$ es:\n",
        "$$\\mu = \\frac{\\sum_{i=1}^{n}x_i}{n}$$"
      ],
      "metadata": {
        "id": "B_lzONmYopzM"
      }
    },
    {
      "cell_type": "markdown",
      "source": [
        "3. Resuelve el ejemplo Example 8.17 de la sección 8.3.2\n",
        "\n",
        "**Example 8.17.** (Public Opinion Polling) We would like to estimate the portion of people who plan to vote for Candidate A in an upcoming election. It is assumed that the number of voters is large, and $\\theta$ is the portion of voters who plan to vote for Candidate A. We define the random variable $X$ as follows. A voter is chosen uniformly at random among all voters and we ask her/him: \"Do you plan to vote for Candidate $A$?\" If she/he says \"yes,\" then $X=1$, otherwise $X=0$. Then,\n",
        "$$X\\sim Bernoulli(\\theta)$$\n",
        "\n",
        "Let $X_1, X_2, X_3, \\dots, X_n$ be a random sample from this distribution, which means that the $X_i's$ are i.i.d. and $X_i\\sim Bernoulli(\\theta)$. In other words, we randomly select $n$ voters (with replacement) and we ask each of them if they plan to vote for Candidate A. Find a $(1-\\alpha)100\\%$ confidence interval for $\\theta$ based on $X_1, X_2, X_3, \\dots, X_n$.\n",
        "\n",
        "***Resolución.*** Dado que $X_i\\sim Bernoulli(\\theta)$, entonces tenemos que\n",
        "\n",
        "- $E(X_i) = \\theta$\n",
        "- $Var(X_i) = \\theta(1-\\theta)$\n",
        "\n",
        "Por lo tanto, para determinar $\\sigma$, necesitamos conocer $\\theta$, pero $\\theta$ es el parametro que estamos buscando en primer lugar. Sabemos que si podemos encontrar un límite superior para $\\sigma$ podemos utilizarlo para construir un intervalo de confianza para $\\theta$. Por suerte, es fácil encontrar un límite superior para $\\sigma$ en este problema. Más concretamente, si definimos\n",
        "\n",
        "$$f(\\theta) = \\theta(1-\\theta), \\text{ para } \\theta \\in [0,1]$$\n",
        "\n",
        "Derivando, obtenemos que el valor máximo de $f(\\theta)$ se encuentra cuando $\\theta=\\frac{1}{2}$ y que\n",
        "\n",
        "$$f(\\theta) \\leq f\\left(\\frac{1}{2}\\right) = \\frac{1}{4}$$\n",
        "\n",
        "Por lo que $$\\sigma = \\frac{1}{2}$$\n",
        "\n",
        "Concluimos que el intervalo\n",
        "$$\\left[\\bar{X}-z_{\\frac{\\alpha}{2}} \\frac{\\sigma_{max}}{\\sqrt{n}},\\bar{X}+z_{\\frac{\\alpha}{2}} \\frac{\\sigma_{max}}{\\sqrt{n}}\\right]$$\n",
        "\n",
        "es el intervalo de confianza al $(1-\\alpha)100\\%$ para $\\theta$, donde $\\sigma_{max}=\\frac{1}{2}$, Sustituimos los valores obtenidos en la expresión y obtenemos que\n",
        "\n",
        "$$\\left[\\bar{X}-\\frac{z_{\\frac{\\alpha}{2}}}{2\\sqrt{n}},\\bar{X}+ \\frac{z_{\\frac{\\alpha}{2}}}{2\\sqrt{n}}\\right]$$\n",
        "\n",
        "es el intervalo de confianza al $(1-\\alpha)100\\%$ para $\\theta$."
      ],
      "metadata": {
        "id": "7bljTajj2cK4"
      }
    },
    {
      "cell_type": "markdown",
      "source": [
        "\n",
        "4. Resuelve los problemas Problem 2-Problem 6 (usa las applets o Python para calcular los cuantiles) de la sección 8.3.4.\n",
        "\n",
        "**Problem 2.** A random sample $X_1, X_2, X_3, ..., X_{100}$ is given from a distribution with known variance $Var(X_i)=16$. For the observed sample, the sample mean is $\\bar{X}=23.5$. Find an approximate $95%$ confidence interval for $\\theta=EX_i$."
      ],
      "metadata": {
        "id": "ee_j_-n9EAE4"
      }
    },
    {
      "cell_type": "code",
      "source": [
        "import numpy as np\n",
        "from scipy.stats import norm\n",
        "\n",
        "n = 100  # tamaño de la muestra\n",
        "media = 23.5  # media muestral\n",
        "varianza = 16  # varianza de la población\n",
        "\n",
        "# Nivel de confianza\n",
        "nivel_confianza = 0.95\n",
        "alpha = 1 - nivel_confianza\n",
        "# Error estándar\n",
        "ES = np.sqrt(varianza) / np.sqrt(n)\n",
        "# Valor crítico\n",
        "z = norm.ppf(1 - alpha/2)\n",
        "# Intervalo de confianza\n",
        "inferior = media - z * ES\n",
        "superior = media + z * ES\n",
        "\n",
        "print(f\"El intervalo de confianza del 95% es:\")\n",
        "print(f\"[{inferior:.1f}, {superior:.1f}]\")"
      ],
      "metadata": {
        "colab": {
          "base_uri": "https://localhost:8080/"
        },
        "id": "OPWFXUK1HAdC",
        "outputId": "1a8a835f-34b0-4eca-a22e-9e8d18d100bb"
      },
      "execution_count": null,
      "outputs": [
        {
          "output_type": "stream",
          "name": "stdout",
          "text": [
            "El intervalo de confianza del 95% es:\n",
            "[22.7, 24.3]\n"
          ]
        }
      ]
    },
    {
      "cell_type": "markdown",
      "source": [
        "**Problem 3.** To estimate the portion of voters who plan to vote for Candidate A in an election, a random sample of size $n$ from the voters is chosen. The sampling is done with replacement. Let $θ$ be the portion of voters who plan to vote for Candidate A among all voters. How large does $n$ need to be so that we can obtain a $90$% confidence interval with $3$% margin of error? That is, how large $n$ needs to be such that\n",
        "\n",
        "$P(\\bar{X}−0.03≤θ≤\\bar{X}+0.03)≥0.90$,\n",
        "\n",
        "where $\\bar{X}$ is the portion of people in our random sample that say they plan to vote for Candidate A."
      ],
      "metadata": {
        "id": "o9BfIlWBHMp1"
      }
    },
    {
      "cell_type": "code",
      "source": [
        "import math\n",
        "\n",
        "a=0.03 # Valor crítico*Error estándar\n",
        "\n",
        "# Nivel de confianza\n",
        "nivel_confianza = 0.90\n",
        "alpha = 1 - nivel_confianza\n",
        "\n",
        "# Valor crítico\n",
        "z = norm.ppf(1 - alpha/2)\n",
        "\n",
        "# Tamaño de la muestra\n",
        "n=(z/(2*a))**2\n",
        "\n",
        "print(f\"El tamaño de muestra de las personas que planean votar por el candidato A con un nivel de confianza del 90% es:\")\n",
        "print(f\"{math.ceil(n)}\")"
      ],
      "metadata": {
        "colab": {
          "base_uri": "https://localhost:8080/"
        },
        "id": "Cklk7G6hRywG",
        "outputId": "bd9e8b15-e26a-42a0-dca2-85fa10a4268d"
      },
      "execution_count": null,
      "outputs": [
        {
          "output_type": "stream",
          "name": "stdout",
          "text": [
            "El tamaño de muestra de las personas que planean votar por el candidato A con un nivel de confianza del 90% es:\n",
            "752\n"
          ]
        }
      ]
    },
    {
      "cell_type": "markdown",
      "source": [
        "**Problem 4**\n",
        "\n",
        "a. Let $ X $ be a random variable such that $ R_X \\subseteq [a, b] $, i.e., we always have $ a \\leq X \\leq b $. Show that\n",
        "$ \\text{Var}(X) \\leq \\frac{(b - a)^2}{4}. $\n",
        "\n",
        "b. Let $ X_1, X_2, X_3, \\ldots, X_n $ be a random sample from an unknown distribution with CDF $ F_X(x) $ such that $ R_X \\subseteq [a, b] $. Specifically, $ E(X) $ and $ \\text{Var}(X) $ are unknown. Find a $ (1 - \\alpha) 100\\% $ confidence interval for $ \\theta = E(X) $. Assume that $ n $ is large."
      ],
      "metadata": {
        "id": "6uyrU9ilQyce"
      }
    },
    {
      "cell_type": "code",
      "source": [
        "import numpy as np\n",
        "\n",
        "# Definir los límites a y b\n",
        "a = 10\n",
        "b = 20\n",
        "\n",
        "# Generar una muestra de X que cumple con a <= X <= b\n",
        "n = 1000  # tamaño de la muestra\n",
        "X = np.random.uniform(a, b, n)\n",
        "\n",
        "# Calcular la varianza de X\n",
        "var_X = np.var(X)\n",
        "\n",
        "# Calcular el término (b - a)^2 / 4\n",
        "bound = ((b - a)**2) / 4\n",
        "\n",
        "# Imprimir los resultados\n",
        "print(f\"Varianza de X: {var_X:.4f}\")\n",
        "print(f\"Límite superior teórico ((b-a)^2 / 4): {bound:.4f}\")\n",
        "\n",
        "# Verificar la desigualdad Var(X) <= ((b-a)^2 / 4)\n",
        "if var_X <= bound:\n",
        "    print(\"La desigualdad Var(X) <= ((b-a)^2 / 4) se cumple.\")\n",
        "else:\n",
        "    print(\"La desigualdad Var(X) <= ((b-a)^2 / 4) no se cumple.\")"
      ],
      "metadata": {
        "id": "oifpMk6YRAVC",
        "colab": {
          "base_uri": "https://localhost:8080/"
        },
        "outputId": "cf97cce4-5753-475b-e74a-0f6e80f91016"
      },
      "execution_count": null,
      "outputs": [
        {
          "output_type": "stream",
          "name": "stdout",
          "text": [
            "Varianza de X: 8.2439\n",
            "Límite superior teórico ((b-a)^2 / 4): 25.0000\n",
            "La desigualdad Var(X) <= ((b-a)^2 / 4) se cumple.\n"
          ]
        }
      ]
    },
    {
      "cell_type": "markdown",
      "source": [
        "***Solución***  \n",
        "\n",
        "a. Defina $ Y = X - \\frac{a+b}{2} $. Por lo tanto, $ R_Y \\subseteq \\left[ -\\frac{b-a}{2}, \\frac{b-a}{2} \\right] $. Entonces,\n",
        "$\n",
        "\\text{Var}(X) = \\text{Var}(Y) \\\\\n",
        "= E[Y^2] - \\mu_Y^2 \\\\\n",
        "\\leq E[Y^2] \\\\\n",
        "\\leq \\left( \\frac{b-a}{2} \\right)^2 \\quad \\left( \\text{ya que} \\; Y^2 \\leq \\left( \\frac{b-a}{2} \\right)^2 \\right) \\\\\n",
        "= \\frac{(b-a)^2}{4}.\n",
        "$\n",
        "\n",
        "b. Aquí, tenemos un límite superior en $\\sigma$, que es $\\sigma_{\\text{max}} = \\frac{b-a}{2}$. Así, el intervalo\n",
        "$\n",
        "\\left[ \\overline{X} - z_{\\frac{\\alpha}{2}} \\frac{\\sigma_{\\text{max}}}{\\sqrt{n}}, \\; \\overline{X} + z_{\\frac{\\alpha}{2}} \\frac{\\sigma_{\\text{max}}}{\\sqrt{n}} \\right]\n",
        "$\n",
        "es un intervalo de confianza de $(1 - \\alpha)100\\% $ para $\\theta$. Más específicamente,\n",
        "$\n",
        "\\left[ \\overline{X} - z_{\\frac{\\alpha}{2}} \\frac{b-a}{2\\sqrt{n}}, \\; \\overline{X} + z_{\\frac{\\alpha}{2}} \\frac{b-a}{2\\sqrt{n}} \\right]\n",
        "$\n",
        "es un intervalo de confianza de $(1 - \\alpha)100\\% $ para $\\theta$."
      ],
      "metadata": {
        "id": "qIs5_2C4U7At"
      }
    },
    {
      "cell_type": "markdown",
      "source": [
        "**Problem 5**\n",
        "\n",
        "A random sample $ X_1, X_2, X_3, \\ldots, X_{144} $ is given from a distribution with unknown variance $ \\text{Var}(X_i) = \\sigma^2 $. For the observed sample, the sample mean is $ \\overline{X} = 55.2 $, and the sample variance is $ S^2 = 34.5 $. Find a 99% confidence interval for $ \\theta = E(X_i) $."
      ],
      "metadata": {
        "id": "ZxkkLJkUQyPX"
      }
    },
    {
      "cell_type": "markdown",
      "source": [
        "***Solución***  \n",
        "El intervalo\n",
        "$ \\left[ \\overline{X} - z_{\\frac{\\alpha}{2}} \\frac{S}{\\sqrt{n}}, \\overline{X} + z_{\\frac{\\alpha}{2}} \\frac{S}{\\sqrt{n}} \\right] $\n",
        "es aproximadamente un intervalo de confianza de $(1 - \\alpha)100\\%$ para $\\theta$. Aquí, $n = 144$, $\\alpha = 0.01$, por lo que necesitamos\n",
        "$ z_{\\frac{\\alpha}{2}} = z_{0.005} = \\Phi^{-1}(1 - 0.005) \\approx 2.58 $\n",
        "\n",
        "Así, podemos obtener un intervalo de confianza del 99% para $\\theta$ como\n",
        "$ \\left[ \\overline{X} - z_{\\frac{\\alpha}{2}} \\frac{S}{\\sqrt{n}}, \\overline{X} + z_{\\frac{\\alpha}{2}} \\frac{S}{\\sqrt{n}} \\right] = \\left[ 55.2 - 2.58 \\cdot \\frac{\\sqrt{34.5}}{12}, 55.2 + 2.58 \\cdot \\frac{\\sqrt{34.5}}{12} \\right] \\approx [53.94, 56.46]. $\n",
        "\n",
        "Por lo tanto, $[53.94, 56.46]$ es un intervalo de confianza aproximado del 99% para $\\theta$."
      ],
      "metadata": {
        "id": "BYyqGHREXBUd"
      }
    },
    {
      "cell_type": "code",
      "source": [
        "import math\n",
        "from scipy.stats import t\n",
        "\n",
        "# Datos proporcionados\n",
        "n = 144\n",
        "media = 55.2\n",
        "varianza = 34.5\n",
        "\n",
        "# Calcular el error estándar de la media (SEM)\n",
        "SEM = math.sqrt(varianza) / math.sqrt(n)\n",
        "\n",
        "# Nivel de confianza del 99%\n",
        "nivel_confianza = 0.99\n",
        "\n",
        "# Calcular el valor crítico de la distribución t de Student\n",
        "gl = n - 1\n",
        "t_critico = t.ppf((1 + nivel_confianza) / 2, gl)\n",
        "\n",
        "# Calcular el margen de error (ME)\n",
        "ME = t_critico * SEM\n",
        "\n",
        "# Calcular el intervalo de confianza\n",
        "limite_inferior = media - ME\n",
        "limite_superior = media + ME\n",
        "\n",
        "# Imprimir el resultado\n",
        "print(f\"Intervalo de confianza del {nivel_confianza*100}% para theta = E(X_i):\")\n",
        "print(f\"[{limite_inferior:.4f}, {limite_superior:.4f}]\")"
      ],
      "metadata": {
        "id": "WEbm05M2RAyB",
        "colab": {
          "base_uri": "https://localhost:8080/"
        },
        "outputId": "a48f1b05-f9c7-4374-cebc-5357a6af3888"
      },
      "execution_count": null,
      "outputs": [
        {
          "output_type": "stream",
          "name": "stdout",
          "text": [
            "Intervalo de confianza del 99.0% para theta = E(X_i):\n",
            "[53.9222, 56.4778]\n"
          ]
        }
      ]
    },
    {
      "cell_type": "markdown",
      "source": [
        "**Problem 6.** To estimate the portion of voters who plan to vote for Candidate A in an election, a random sample of size $n$ from the voters is chosen. The sampling is done with replacement. Let $θ$ be the portion of voters who plan to vote for Candidate A among all voters. How large does $n$ need to be so that we can obtain a $90$% confidence interval with $3$% margin of error? That is, how large $n$ needs to be such that\n",
        "\n",
        "$P(\\bar{X}−0.03≤θ≤\\bar{X}+0.03)≥0.90$,\n",
        "\n",
        "where $\\bar{X}$ is the portion of people in our random sample that say they plan to vote for Candidate A."
      ],
      "metadata": {
        "id": "OeeY5pWAQx6K"
      }
    },
    {
      "cell_type": "markdown",
      "source": [
        "a. Aquí, el intervalo\n",
        "\n",
        "$ \\left[ \\overline{X} - t_{\\frac{\\alpha}{2}, n-1} \\frac{S}{\\sqrt{n}}, \\overline{X} + t_{\\frac{\\alpha}{2}, n-1} \\frac{S}{\\sqrt{n}} \\right] $\n",
        "\n",
        "es un intervalo de confianza de $(1 - \\alpha)100\\%$ para $\\mu$. Sea $n = 16$, $\\alpha = 0.05$, entonces\n",
        "\n",
        "$ t_{0.025, 15} \\approx 2.13 $\n",
        "\n",
        "El valor anterior se puede obtener en Python usando la función `t.ppf` de la biblioteca `scipy.stats`. Así, podemos obtener un intervalo de confianza del 95% para $\\mu$ como\n",
        "\n",
        "$ \\left[ 16.7 - 2.13 \\frac{\\sqrt{7.5}}{4}, 16.7 + 2.13 \\frac{\\sqrt{7.5}}{4} \\right] \\approx [15.24, 18.16]. $\n",
        "\n",
        "Por lo tanto, $[15.24, 18.16]$ es un intervalo de confianza del 95% para $\\mu$.\n",
        "\n"
      ],
      "metadata": {
        "id": "HWE6EZ1EYLqi"
      }
    },
    {
      "cell_type": "code",
      "source": [
        "import scipy.stats as stats\n",
        "import numpy as np\n",
        "\n",
        "n = 16\n",
        "alpha = 0.05\n",
        "media = 16.7\n",
        "std_dev = np.sqrt(7.5)\n",
        "t_value = stats.t.ppf(1 - alpha/2, n - 1)\n",
        "margen_error = t_value * (std_dev / np.sqrt(n))\n",
        "\n",
        "lim_inf = media - margen_error\n",
        "lim_sup = media + margen_error\n",
        "\n",
        "print(f\"El intervalo de confianza del 95% para μ es aproximadamente [{lim_inf:.2f}, {lim_sup:.2f}]\")\n"
      ],
      "metadata": {
        "colab": {
          "base_uri": "https://localhost:8080/"
        },
        "id": "5dzKRa1PZyWw",
        "outputId": "c6a0b4b8-cf87-460a-ce8d-ce064c277716"
      },
      "execution_count": null,
      "outputs": [
        {
          "output_type": "stream",
          "name": "stdout",
          "text": [
            "El intervalo de confianza del 95% para μ es aproximadamente [15.24, 18.16]\n"
          ]
        }
      ]
    },
    {
      "cell_type": "markdown",
      "source": [
        "b. Aquí,\n",
        "$ \\left( \\frac{(n-1)S^2}{\\chi^2_{\\frac{\\alpha}{2}, n-1}}, \\frac{(n-1)S^2}{\\chi^2_{1-\\frac{\\alpha}{2}, n-1}} \\right) $\n",
        "es un intervalo de confianza de $(1 - \\alpha)100\\%$ para $\\sigma^2$. En este problema, $n = 16$, $\\alpha = .05$, por lo que necesitamos\n",
        "$ \\chi^2_{0.025, 15} \\approx 27.49, \\quad \\chi^2_{0.975, 15} \\approx 6.26 $\n",
        "\n",
        "Los valores anteriores se pueden obtener en Python usando las funciones `t.ppf` y `chi2.ppf` de la biblioteca `scipy.stats`. Así, podemos obtener un intervalo de confianza del 95% para $\\sigma^2$ como\n",
        "$ \\left[ \\frac{(n-1)S^2}{\\chi^2_{\\frac{\\alpha}{2}, n-1}}, \\frac{(n-1)S^2}{\\chi^2_{1-\\frac{\\alpha}{2}, n-1}} \\right] = \\left[ \\frac{15 \\times 7.5}{27.49}, \\frac{15 \\times 7.5}{6.26} \\right] \\approx [4.09, 17.97]. $  \n",
        "\n",
        "Por lo tanto, $[4.09, 17.97]$ es un intervalo de confianza del 95% para $\\sigma^2$."
      ],
      "metadata": {
        "id": "eDFhjMYcZy4I"
      }
    },
    {
      "cell_type": "code",
      "source": [
        "import scipy.stats as stats\n",
        "\n",
        "n = 16\n",
        "alpha = 0.05\n",
        "S2 = 7.5  # varianza muestral\n",
        "\n",
        "chi2_inf = stats.chi2.ppf(alpha / 2, n - 1)\n",
        "chi2_sup = stats.chi2.ppf(1 - alpha / 2, n - 1)\n",
        "\n",
        "inf_lim = (n - 1) * S2 / chi2_sup\n",
        "sup_lim = (n - 1) * S2 / chi2_inf\n",
        "\n",
        "print(f\"El intervalo de confianza del 95% para σ^2 es aproximadamente [{inf_lim:.2f}, {sup_lim:.2f}]\")"
      ],
      "metadata": {
        "colab": {
          "base_uri": "https://localhost:8080/"
        },
        "id": "sxuOKU3wRC2C",
        "outputId": "cb3de6a9-8cd8-470c-a1db-3e430a1290d3"
      },
      "execution_count": null,
      "outputs": [
        {
          "output_type": "stream",
          "name": "stdout",
          "text": [
            "El intervalo de confianza del 95% para σ^2 es aproximadamente [4.09, 17.97]\n"
          ]
        }
      ]
    }
  ]
}