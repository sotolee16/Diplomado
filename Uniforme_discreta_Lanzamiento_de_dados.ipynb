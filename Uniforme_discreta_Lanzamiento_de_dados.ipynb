{
  "nbformat": 4,
  "nbformat_minor": 0,
  "metadata": {
    "colab": {
      "provenance": [],
      "authorship_tag": "ABX9TyNr0iCVxvdZ7rPbtPEXfSxa",
      "include_colab_link": true
    },
    "kernelspec": {
      "name": "python3",
      "display_name": "Python 3"
    },
    "language_info": {
      "name": "python"
    }
  },
  "cells": [
    {
      "cell_type": "markdown",
      "metadata": {
        "id": "view-in-github",
        "colab_type": "text"
      },
      "source": [
        "<a href=\"https://colab.research.google.com/github/sotolee16/Experimento-de-dos-dados/blob/main/Uniforme_discreta_Lanzamiento_de_dados.ipynb\" target=\"_parent\"><img src=\"https://colab.research.google.com/assets/colab-badge.svg\" alt=\"Open In Colab\"/></a>"
      ]
    },
    {
      "cell_type": "markdown",
      "source": [
        "#### Diccionarios"
      ],
      "metadata": {
        "id": "1z23DOQT-eva"
      }
    },
    {
      "cell_type": "code",
      "source": [
        "d = {\"Cesar\": [\"Masha\", \"Mila\", \"Sneg\"],\n",
        "     \"Julio\": [3, 10, 12],\n",
        "     \"Gal\": [7.0, 5.0, 6.0]}"
      ],
      "metadata": {
        "id": "Wn085rDD-dYR"
      },
      "execution_count": null,
      "outputs": []
    },
    {
      "cell_type": "code",
      "source": [
        "type(d)"
      ],
      "metadata": {
        "colab": {
          "base_uri": "https://localhost:8080/"
        },
        "id": "KNS57B8l_KUp",
        "outputId": "db3ed747-417b-4b67-ce20-4a7c83973efd"
      },
      "execution_count": null,
      "outputs": [
        {
          "output_type": "execute_result",
          "data": {
            "text/plain": [
              "dict"
            ]
          },
          "metadata": {},
          "execution_count": 3
        }
      ]
    },
    {
      "cell_type": "code",
      "source": [
        "d.keys() #Son las llaves del diccionario"
      ],
      "metadata": {
        "colab": {
          "base_uri": "https://localhost:8080/"
        },
        "id": "FHq77yRP_Wwm",
        "outputId": "4ff79b8c-c83a-4c0c-9ebe-08c2d12652d4"
      },
      "execution_count": null,
      "outputs": [
        {
          "output_type": "execute_result",
          "data": {
            "text/plain": [
              "dict_keys(['Cesar', 'Julio', 'Gal'])"
            ]
          },
          "metadata": {},
          "execution_count": 4
        }
      ]
    },
    {
      "cell_type": "code",
      "source": [
        "d.values()"
      ],
      "metadata": {
        "colab": {
          "base_uri": "https://localhost:8080/"
        },
        "id": "_7NXfYUR_gVD",
        "outputId": "3c581613-d07b-46eb-a4ce-eeca6a43649b"
      },
      "execution_count": null,
      "outputs": [
        {
          "output_type": "execute_result",
          "data": {
            "text/plain": [
              "dict_values([['Masha', 'Mila', 'Sneg'], [3, 10, 12], [7.0, 5.0, 6.0]])"
            ]
          },
          "metadata": {},
          "execution_count": 5
        }
      ]
    },
    {
      "cell_type": "code",
      "source": [
        "d.items()"
      ],
      "metadata": {
        "colab": {
          "base_uri": "https://localhost:8080/"
        },
        "id": "KAUyz0Qx_kT0",
        "outputId": "a2a38e82-a802-43ef-efa6-722fba411ab6"
      },
      "execution_count": null,
      "outputs": [
        {
          "output_type": "execute_result",
          "data": {
            "text/plain": [
              "dict_items([('Cesar', ['Masha', 'Mila', 'Sneg']), ('Julio', [3, 10, 12]), ('Gal', [7.0, 5.0, 6.0])])"
            ]
          },
          "metadata": {},
          "execution_count": 6
        }
      ]
    },
    {
      "cell_type": "markdown",
      "source": [
        "## Se lanzan dos dados\n",
        "\n",
        "- $\\Omega = \\{1,2,3,4,5,6\\}\\times \\{1,2,3,4,5,6 \\}$\n",
        "- $\\mathcal{F}=p(\\Omega)$.\n",
        "- Para $\\omega=(i,j)$ donde $i, j=1, \\dots, 6$\n",
        "$$\\mathbb{P}(\\{\\omega\\})=\\frac{1}{36}.$$\n",
        "\n",
        "----\n",
        "\n",
        "## Vamos a definir a la siguiente variable aleatoria:\n",
        "$S$ es la variable aleatoria que cuenta la suma de las caras de los dados.\n",
        "\n",
        "$$S:\\Omega \\to R_{S}={2,3,4,5,6,7,8,9,10,11,12}$$\n",
        "\n"
      ],
      "metadata": {
        "id": "fZVAtO56ADCT"
      }
    },
    {
      "cell_type": "code",
      "source": [
        "# Se importan las librerías necesarias\n",
        "from itertools import product\n",
        "from fractions import Fraction\n"
      ],
      "metadata": {
        "id": "eSiM4LjbEiUi"
      },
      "execution_count": 4,
      "outputs": []
    },
    {
      "cell_type": "code",
      "source": [
        "#Definimos la función para poder calcular probabilidades\n",
        "def P(A, Omega):\n",
        "  P= Fraction(len(A), len(Omega))\n",
        "  return P"
      ],
      "metadata": {
        "id": "ID4siPc-Ep2h"
      },
      "execution_count": 5,
      "outputs": []
    },
    {
      "cell_type": "markdown",
      "source": [],
      "metadata": {
        "id": "ep7ZEcnsE9OS"
      }
    },
    {
      "cell_type": "code",
      "source": [
        "# Generamos el evento cuando los dados sumen 2\n",
        "S_2 = {(i,j)for i in range(1,7) for j in range(1,7) if i+j==2}\n",
        "S_2"
      ],
      "metadata": {
        "colab": {
          "base_uri": "https://localhost:8080/"
        },
        "id": "zEYOzBBVE9xh",
        "outputId": "d241acbc-9b85-43d7-c04c-5038f5bb2d41"
      },
      "execution_count": 6,
      "outputs": [
        {
          "output_type": "execute_result",
          "data": {
            "text/plain": [
              "{(1, 1)}"
            ]
          },
          "metadata": {},
          "execution_count": 6
        }
      ]
    },
    {
      "cell_type": "code",
      "source": [
        "# Mostramos todos los eventos posibles\n",
        "L = [i for i in range(1,7)]\n",
        "Omega  = set(product (L,  repeat =2))\n",
        "Omega"
      ],
      "metadata": {
        "colab": {
          "base_uri": "https://localhost:8080/"
        },
        "id": "UvF0UcjjF03i",
        "outputId": "adcb09b3-b681-42e0-e39d-7042eeec1283"
      },
      "execution_count": 7,
      "outputs": [
        {
          "output_type": "execute_result",
          "data": {
            "text/plain": [
              "{(1, 1),\n",
              " (1, 2),\n",
              " (1, 3),\n",
              " (1, 4),\n",
              " (1, 5),\n",
              " (1, 6),\n",
              " (2, 1),\n",
              " (2, 2),\n",
              " (2, 3),\n",
              " (2, 4),\n",
              " (2, 5),\n",
              " (2, 6),\n",
              " (3, 1),\n",
              " (3, 2),\n",
              " (3, 3),\n",
              " (3, 4),\n",
              " (3, 5),\n",
              " (3, 6),\n",
              " (4, 1),\n",
              " (4, 2),\n",
              " (4, 3),\n",
              " (4, 4),\n",
              " (4, 5),\n",
              " (4, 6),\n",
              " (5, 1),\n",
              " (5, 2),\n",
              " (5, 3),\n",
              " (5, 4),\n",
              " (5, 5),\n",
              " (5, 6),\n",
              " (6, 1),\n",
              " (6, 2),\n",
              " (6, 3),\n",
              " (6, 4),\n",
              " (6, 5),\n",
              " (6, 6)}"
            ]
          },
          "metadata": {},
          "execution_count": 7
        }
      ]
    },
    {
      "cell_type": "code",
      "source": [
        "# Mostramos todos los eventos junto con la suma de los dados\n",
        "S = {(i,j): i+j for i,j in Omega}\n",
        "S"
      ],
      "metadata": {
        "colab": {
          "base_uri": "https://localhost:8080/"
        },
        "id": "04A0l7O9FqaW",
        "outputId": "c512df34-730c-4a9d-d581-242a353a0cd1"
      },
      "execution_count": 8,
      "outputs": [
        {
          "output_type": "execute_result",
          "data": {
            "text/plain": [
              "{(3, 4): 7,\n",
              " (4, 3): 7,\n",
              " (3, 1): 4,\n",
              " (5, 4): 9,\n",
              " (4, 6): 10,\n",
              " (5, 1): 6,\n",
              " (2, 2): 4,\n",
              " (1, 6): 7,\n",
              " (2, 5): 7,\n",
              " (1, 3): 4,\n",
              " (6, 2): 8,\n",
              " (6, 5): 11,\n",
              " (4, 2): 6,\n",
              " (4, 5): 9,\n",
              " (3, 3): 6,\n",
              " (5, 6): 11,\n",
              " (3, 6): 9,\n",
              " (5, 3): 8,\n",
              " (2, 4): 6,\n",
              " (1, 2): 3,\n",
              " (2, 1): 3,\n",
              " (1, 5): 6,\n",
              " (6, 1): 7,\n",
              " (6, 4): 10,\n",
              " (3, 2): 5,\n",
              " (4, 1): 5,\n",
              " (3, 5): 8,\n",
              " (5, 2): 7,\n",
              " (4, 4): 8,\n",
              " (5, 5): 10,\n",
              " (1, 1): 2,\n",
              " (1, 4): 5,\n",
              " (2, 3): 5,\n",
              " (2, 6): 8,\n",
              " (6, 6): 12,\n",
              " (6, 3): 9}"
            ]
          },
          "metadata": {},
          "execution_count": 8
        }
      ]
    },
    {
      "cell_type": "code",
      "source": [
        "# Importamos la librería para dar formato de diccionarios\n",
        "from collections import defaultdict\n",
        "\n",
        "dS = defaultdict(set)\n",
        "dS"
      ],
      "metadata": {
        "colab": {
          "base_uri": "https://localhost:8080/"
        },
        "id": "n9lK8rSyHbzV",
        "outputId": "33098386-d54f-4a1f-9b20-2b3036af2314"
      },
      "execution_count": 9,
      "outputs": [
        {
          "output_type": "execute_result",
          "data": {
            "text/plain": [
              "defaultdict(set, {})"
            ]
          },
          "metadata": {},
          "execution_count": 9
        }
      ]
    },
    {
      "cell_type": "code",
      "source": [
        "# Mostramos los eventos posibles dependiendo la suma\n",
        "for l, v in S.items():\n",
        "  dS[v].add(l)\n",
        "\n",
        "dS"
      ],
      "metadata": {
        "id": "yYvDGWKwHoJD",
        "colab": {
          "base_uri": "https://localhost:8080/"
        },
        "outputId": "5c3c4d10-37a3-440a-aa25-03b3f7936aa6"
      },
      "execution_count": 11,
      "outputs": [
        {
          "output_type": "execute_result",
          "data": {
            "text/plain": [
              "defaultdict(set,\n",
              "            {7: {(1, 6), (2, 5), (3, 4), (4, 3), (5, 2), (6, 1)},\n",
              "             4: {(1, 3), (2, 2), (3, 1)},\n",
              "             9: {(3, 6), (4, 5), (5, 4), (6, 3)},\n",
              "             10: {(4, 6), (5, 5), (6, 4)},\n",
              "             6: {(1, 5), (2, 4), (3, 3), (4, 2), (5, 1)},\n",
              "             8: {(2, 6), (3, 5), (4, 4), (5, 3), (6, 2)},\n",
              "             11: {(5, 6), (6, 5)},\n",
              "             3: {(1, 2), (2, 1)},\n",
              "             5: {(1, 4), (2, 3), (3, 2), (4, 1)},\n",
              "             2: {(1, 1)},\n",
              "             12: {(6, 6)}})"
            ]
          },
          "metadata": {},
          "execution_count": 11
        }
      ]
    },
    {
      "cell_type": "code",
      "source": [
        "# Agrupamos las sumas posibles de los dados con sus respectivas probabilidades\n",
        "leyS = {k : P(A,Omega) for k, A in dS.items() }\n",
        "leyS"
      ],
      "metadata": {
        "colab": {
          "base_uri": "https://localhost:8080/"
        },
        "id": "QYu6mIBPJTlC",
        "outputId": "4089a720-8b94-4c3a-c4f1-7dfaea6aeddc"
      },
      "execution_count": 14,
      "outputs": [
        {
          "output_type": "execute_result",
          "data": {
            "text/plain": [
              "{7: Fraction(1, 6),\n",
              " 4: Fraction(1, 12),\n",
              " 9: Fraction(1, 9),\n",
              " 10: Fraction(1, 12),\n",
              " 6: Fraction(5, 36),\n",
              " 8: Fraction(5, 36),\n",
              " 11: Fraction(1, 18),\n",
              " 3: Fraction(1, 18),\n",
              " 5: Fraction(1, 9),\n",
              " 2: Fraction(1, 36),\n",
              " 12: Fraction(1, 36)}"
            ]
          },
          "metadata": {},
          "execution_count": 14
        }
      ]
    },
    {
      "cell_type": "code",
      "source": [
        "S"
      ],
      "metadata": {
        "id": "MVt3lS26JqHf",
        "colab": {
          "base_uri": "https://localhost:8080/"
        },
        "outputId": "e5e7f820-135e-42ba-9014-03f9c609ebeb"
      },
      "execution_count": 15,
      "outputs": [
        {
          "output_type": "execute_result",
          "data": {
            "text/plain": [
              "{(3, 4): 7,\n",
              " (4, 3): 7,\n",
              " (3, 1): 4,\n",
              " (5, 4): 9,\n",
              " (4, 6): 10,\n",
              " (5, 1): 6,\n",
              " (2, 2): 4,\n",
              " (1, 6): 7,\n",
              " (2, 5): 7,\n",
              " (1, 3): 4,\n",
              " (6, 2): 8,\n",
              " (6, 5): 11,\n",
              " (4, 2): 6,\n",
              " (4, 5): 9,\n",
              " (3, 3): 6,\n",
              " (5, 6): 11,\n",
              " (3, 6): 9,\n",
              " (5, 3): 8,\n",
              " (2, 4): 6,\n",
              " (1, 2): 3,\n",
              " (2, 1): 3,\n",
              " (1, 5): 6,\n",
              " (6, 1): 7,\n",
              " (6, 4): 10,\n",
              " (3, 2): 5,\n",
              " (4, 1): 5,\n",
              " (3, 5): 8,\n",
              " (5, 2): 7,\n",
              " (4, 4): 8,\n",
              " (5, 5): 10,\n",
              " (1, 1): 2,\n",
              " (1, 4): 5,\n",
              " (2, 3): 5,\n",
              " (2, 6): 8,\n",
              " (6, 6): 12,\n",
              " (6, 3): 9}"
            ]
          },
          "metadata": {},
          "execution_count": 15
        }
      ]
    },
    {
      "cell_type": "markdown",
      "source": [
        "## Introducción a pandas."
      ],
      "metadata": {
        "id": "rfyo2CT_KTX_"
      }
    },
    {
      "cell_type": "code",
      "source": [
        "# Importamos la librería pandas\n",
        "import pandas as pd"
      ],
      "metadata": {
        "id": "F7G1yqK0KY4N"
      },
      "execution_count": 16,
      "outputs": []
    },
    {
      "cell_type": "code",
      "source": [
        "# Generamos un dataframe ordenado con la suma de los dados y sus probabilidades\n",
        "leyS = pd.Series(leyS)\n",
        "leyS = leyS.sort_index()\n",
        "\n",
        "leyS"
      ],
      "metadata": {
        "id": "QZExrS61Kchz",
        "colab": {
          "base_uri": "https://localhost:8080/"
        },
        "outputId": "37b16fc8-4a16-49c7-f25a-4d64168d5b27"
      },
      "execution_count": 17,
      "outputs": [
        {
          "output_type": "execute_result",
          "data": {
            "text/plain": [
              "2     1/36\n",
              "3     1/18\n",
              "4     1/12\n",
              "5      1/9\n",
              "6     5/36\n",
              "7      1/6\n",
              "8     5/36\n",
              "9      1/9\n",
              "10    1/12\n",
              "11    1/18\n",
              "12    1/36\n",
              "dtype: object"
            ]
          },
          "metadata": {},
          "execution_count": 17
        }
      ]
    },
    {
      "cell_type": "markdown",
      "source": [
        "### Ejercicios\n",
        "\n",
        "1. Documenta tu colab.\n",
        "\n",
        "2. Calcula la probabilidad de las siguientes variables aleatorias.\n",
        "- La diferencia de las caras sea mayor a 1.\n",
        "- La suma de las caras sea par.\n",
        "\n",
        "3. Verifica en cada caso que,\n",
        "$$\\sum_{k \\in R_x} \\mathbb{P}(X=x)=1$$\n",
        "\n",
        "4. Sube tu notebook a tu Github."
      ],
      "metadata": {
        "id": "33vtqeW1mkdH"
      }
    },
    {
      "cell_type": "markdown",
      "source": [
        "### Ejercicio: La diferencia de las caras sea mayor a 1"
      ],
      "metadata": {
        "id": "B_lXA-5CqZ3T"
      }
    },
    {
      "cell_type": "code",
      "source": [
        "# Generar todos los eventos posibles\n",
        "Omega_1 = {(i, j) for i in range (1, 7) for j in range (1, 7) if abs(i - j) >= 2}\n",
        "Omega_1"
      ],
      "metadata": {
        "colab": {
          "base_uri": "https://localhost:8080/"
        },
        "id": "pY5ulwdapfsq",
        "outputId": "255871b1-5dd7-46e6-c112-d5f697594578"
      },
      "execution_count": 18,
      "outputs": [
        {
          "output_type": "execute_result",
          "data": {
            "text/plain": [
              "{(1, 3),\n",
              " (1, 4),\n",
              " (1, 5),\n",
              " (1, 6),\n",
              " (2, 4),\n",
              " (2, 5),\n",
              " (2, 6),\n",
              " (3, 1),\n",
              " (3, 5),\n",
              " (3, 6),\n",
              " (4, 1),\n",
              " (4, 2),\n",
              " (4, 6),\n",
              " (5, 1),\n",
              " (5, 2),\n",
              " (5, 3),\n",
              " (6, 1),\n",
              " (6, 2),\n",
              " (6, 3),\n",
              " (6, 4)}"
            ]
          },
          "metadata": {},
          "execution_count": 18
        }
      ]
    },
    {
      "cell_type": "code",
      "source": [
        "# A todos los eventos le asociamos su suma de los dados\n",
        "S1 = {(i, j): i + j for i, j in Omega_1}\n",
        "S1"
      ],
      "metadata": {
        "colab": {
          "base_uri": "https://localhost:8080/"
        },
        "id": "ddAOCeKbqqt2",
        "outputId": "f225eb87-2e99-4c70-f910-ee96c4026860"
      },
      "execution_count": 19,
      "outputs": [
        {
          "output_type": "execute_result",
          "data": {
            "text/plain": [
              "{(3, 1): 4,\n",
              " (4, 6): 10,\n",
              " (5, 1): 6,\n",
              " (1, 6): 7,\n",
              " (2, 5): 7,\n",
              " (1, 3): 4,\n",
              " (6, 2): 8,\n",
              " (4, 2): 6,\n",
              " (3, 6): 9,\n",
              " (5, 3): 8,\n",
              " (2, 4): 6,\n",
              " (1, 5): 6,\n",
              " (6, 1): 7,\n",
              " (6, 4): 10,\n",
              " (4, 1): 5,\n",
              " (3, 5): 8,\n",
              " (5, 2): 7,\n",
              " (1, 4): 5,\n",
              " (2, 6): 8,\n",
              " (6, 3): 9}"
            ]
          },
          "metadata": {},
          "execution_count": 19
        }
      ]
    },
    {
      "cell_type": "code",
      "source": [
        "# Librería para dar formato al diccionario\n",
        "from collections import defaultdict\n",
        "\n",
        "dS1 = defaultdict(set)\n",
        "dS1"
      ],
      "metadata": {
        "colab": {
          "base_uri": "https://localhost:8080/"
        },
        "id": "SeJIo-vzq3ps",
        "outputId": "f90cd057-c85d-4199-e7dd-f3cccd15af56"
      },
      "execution_count": 20,
      "outputs": [
        {
          "output_type": "execute_result",
          "data": {
            "text/plain": [
              "defaultdict(set, {})"
            ]
          },
          "metadata": {},
          "execution_count": 20
        }
      ]
    },
    {
      "cell_type": "code",
      "source": [
        "# Agrupamos los eventos por su suma de los dados\n",
        "for l1, v1 in S1.items():\n",
        "  dS1[v1].add(l1)\n",
        "\n",
        "dS1"
      ],
      "metadata": {
        "colab": {
          "base_uri": "https://localhost:8080/"
        },
        "id": "u9h1geIArL-t",
        "outputId": "a7103828-8c88-43cf-ba22-fcedcb4d396a"
      },
      "execution_count": 21,
      "outputs": [
        {
          "output_type": "execute_result",
          "data": {
            "text/plain": [
              "defaultdict(set,\n",
              "            {4: {(1, 3), (3, 1)},\n",
              "             10: {(4, 6), (6, 4)},\n",
              "             6: {(1, 5), (2, 4), (4, 2), (5, 1)},\n",
              "             7: {(1, 6), (2, 5), (5, 2), (6, 1)},\n",
              "             8: {(2, 6), (3, 5), (5, 3), (6, 2)},\n",
              "             9: {(3, 6), (6, 3)},\n",
              "             5: {(1, 4), (4, 1)}})"
            ]
          },
          "metadata": {},
          "execution_count": 21
        }
      ]
    },
    {
      "cell_type": "code",
      "source": [
        "# Ahora agrupamos las sumas de los dados con su probabilidad\n",
        "leyS1 = {k : P(A, Omega_1) for k , A in dS1.items() }\n",
        "leyS1"
      ],
      "metadata": {
        "colab": {
          "base_uri": "https://localhost:8080/"
        },
        "id": "Yi-QIu63tAu7",
        "outputId": "d6a98988-91e3-4bf1-98a9-6df127cc6c87"
      },
      "execution_count": 23,
      "outputs": [
        {
          "output_type": "execute_result",
          "data": {
            "text/plain": [
              "{4: Fraction(1, 10),\n",
              " 10: Fraction(1, 10),\n",
              " 6: Fraction(1, 5),\n",
              " 7: Fraction(1, 5),\n",
              " 8: Fraction(1, 5),\n",
              " 9: Fraction(1, 10),\n",
              " 5: Fraction(1, 10)}"
            ]
          },
          "metadata": {},
          "execution_count": 23
        }
      ]
    },
    {
      "cell_type": "code",
      "source": [
        "# Importamos la librería pandas y generamos el Dataframe ordenado con sus sumas y probabilidades asociadas\n",
        "import pandas as pd\n",
        "\n",
        "leyS1 = pd.Series(leyS1)\n",
        "leyS1 = leyS1.sort_index()\n",
        "leyS1"
      ],
      "metadata": {
        "colab": {
          "base_uri": "https://localhost:8080/"
        },
        "id": "6MtCbETVthw2",
        "outputId": "2407380a-aad6-420b-805f-8bbe03b8e4c9"
      },
      "execution_count": 24,
      "outputs": [
        {
          "output_type": "execute_result",
          "data": {
            "text/plain": [
              "4     1/10\n",
              "5     1/10\n",
              "6      1/5\n",
              "7      1/5\n",
              "8      1/5\n",
              "9     1/10\n",
              "10    1/10\n",
              "dtype: object"
            ]
          },
          "metadata": {},
          "execution_count": 24
        }
      ]
    },
    {
      "cell_type": "markdown",
      "source": [
        "### Ejercicio 2: La suma de las caras sea par"
      ],
      "metadata": {
        "id": "DE-Orp7Tt4ly"
      }
    },
    {
      "cell_type": "code",
      "source": [
        "# Generarmos los eventos tales que la suma de las caras sea par\n",
        "Omega_par = {(i, j) for i in range (1, 7) for j in range (1, 7) if ((i + j) % 2 == 0)}\n",
        "Omega_par"
      ],
      "metadata": {
        "colab": {
          "base_uri": "https://localhost:8080/"
        },
        "id": "756wtUw8t-sl",
        "outputId": "1a7ba98d-f63b-40d6-faca-4470e68872da"
      },
      "execution_count": 25,
      "outputs": [
        {
          "output_type": "execute_result",
          "data": {
            "text/plain": [
              "{(1, 1),\n",
              " (1, 3),\n",
              " (1, 5),\n",
              " (2, 2),\n",
              " (2, 4),\n",
              " (2, 6),\n",
              " (3, 1),\n",
              " (3, 3),\n",
              " (3, 5),\n",
              " (4, 2),\n",
              " (4, 4),\n",
              " (4, 6),\n",
              " (5, 1),\n",
              " (5, 3),\n",
              " (5, 5),\n",
              " (6, 2),\n",
              " (6, 4),\n",
              " (6, 6)}"
            ]
          },
          "metadata": {},
          "execution_count": 25
        }
      ]
    },
    {
      "cell_type": "code",
      "source": [
        "# A los eventos le asociamos la suma de estos\n",
        "S2 = {(i, j): i + j for i, j in Omega_par}\n",
        "S2"
      ],
      "metadata": {
        "colab": {
          "base_uri": "https://localhost:8080/"
        },
        "id": "fJAyvforuaPX",
        "outputId": "afc14e00-d8f4-4ce0-8285-da6af2afd323"
      },
      "execution_count": 27,
      "outputs": [
        {
          "output_type": "execute_result",
          "data": {
            "text/plain": [
              "{(4, 4): 8,\n",
              " (2, 4): 6,\n",
              " (5, 5): 10,\n",
              " (6, 2): 8,\n",
              " (1, 5): 6,\n",
              " (3, 1): 4,\n",
              " (1, 1): 2,\n",
              " (4, 6): 10,\n",
              " (6, 6): 12,\n",
              " (5, 1): 6,\n",
              " (4, 2): 6,\n",
              " (6, 4): 10,\n",
              " (3, 3): 6,\n",
              " (2, 6): 8,\n",
              " (2, 2): 4,\n",
              " (5, 3): 8,\n",
              " (1, 3): 4,\n",
              " (3, 5): 8}"
            ]
          },
          "metadata": {},
          "execution_count": 27
        }
      ]
    },
    {
      "cell_type": "code",
      "source": [
        "# Le damos formato al diccionario\n",
        "from collections import defaultdict\n",
        "\n",
        "dS2 = defaultdict(set)\n",
        "dS2"
      ],
      "metadata": {
        "colab": {
          "base_uri": "https://localhost:8080/"
        },
        "id": "fYYqlFEmutpr",
        "outputId": "86eaf596-e7fe-4ea1-b905-589f06bd4b28"
      },
      "execution_count": 28,
      "outputs": [
        {
          "output_type": "execute_result",
          "data": {
            "text/plain": [
              "defaultdict(set, {})"
            ]
          },
          "metadata": {},
          "execution_count": 28
        }
      ]
    },
    {
      "cell_type": "code",
      "source": [
        "# Agrupamos los eventos posibles con la suma de los dados\n",
        "for l2, v2 in S2.items():\n",
        "  dS2[v2].add(l2)\n",
        "\n",
        "dS2"
      ],
      "metadata": {
        "colab": {
          "base_uri": "https://localhost:8080/"
        },
        "id": "vZakoIWlut9b",
        "outputId": "41b39d15-e596-4756-b47d-547c9b76e924"
      },
      "execution_count": 29,
      "outputs": [
        {
          "output_type": "execute_result",
          "data": {
            "text/plain": [
              "defaultdict(set,\n",
              "            {8: {(2, 6), (3, 5), (4, 4), (5, 3), (6, 2)},\n",
              "             6: {(1, 5), (2, 4), (3, 3), (4, 2), (5, 1)},\n",
              "             10: {(4, 6), (5, 5), (6, 4)},\n",
              "             4: {(1, 3), (2, 2), (3, 1)},\n",
              "             2: {(1, 1)},\n",
              "             12: {(6, 6)}})"
            ]
          },
          "metadata": {},
          "execution_count": 29
        }
      ]
    },
    {
      "cell_type": "code",
      "source": [
        "# Ahora los agrupamos con su respectiva probabilidad\n",
        "leyS2 = {k : P(A, Omega_par) for k , A in dS2.items() }\n",
        "leyS2"
      ],
      "metadata": {
        "colab": {
          "base_uri": "https://localhost:8080/"
        },
        "id": "kALIoy0qvyq7",
        "outputId": "51ce00b8-83be-4712-a1a5-970288c184f8"
      },
      "execution_count": 30,
      "outputs": [
        {
          "output_type": "execute_result",
          "data": {
            "text/plain": [
              "{8: Fraction(5, 18),\n",
              " 6: Fraction(5, 18),\n",
              " 10: Fraction(1, 6),\n",
              " 4: Fraction(1, 6),\n",
              " 2: Fraction(1, 18),\n",
              " 12: Fraction(1, 18)}"
            ]
          },
          "metadata": {},
          "execution_count": 30
        }
      ]
    },
    {
      "cell_type": "code",
      "source": [
        "# Importamos la librería pandas y generamos el Dataframe ordenado con sus sumas y probabilidades asociadas\n",
        "import pandas as pd\n",
        "leyS2 = pd.Series(leyS2)\n",
        "leyS2 = leyS2.sort_index()\n",
        "leyS2"
      ],
      "metadata": {
        "colab": {
          "base_uri": "https://localhost:8080/"
        },
        "id": "pdQHXyc8wDEA",
        "outputId": "88657c15-1f5a-4351-df5a-143e46e249dd"
      },
      "execution_count": 31,
      "outputs": [
        {
          "output_type": "execute_result",
          "data": {
            "text/plain": [
              "2     1/18\n",
              "4      1/6\n",
              "6     5/18\n",
              "8     5/18\n",
              "10     1/6\n",
              "12    1/18\n",
              "dtype: object"
            ]
          },
          "metadata": {},
          "execution_count": 31
        }
      ]
    }
  ]
}